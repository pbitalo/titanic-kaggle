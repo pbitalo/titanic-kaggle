{
  "nbformat": 4,
  "nbformat_minor": 0,
  "metadata": {
    "colab": {
      "name": "Projeto_Final_Machine_learning_II.ipynb",
      "provenance": [],
      "toc_visible": true,
      "authorship_tag": "ABX9TyMyO3ycLUByxkyLfFmFFbEc",
      "include_colab_link": true
    },
    "kernelspec": {
      "name": "python3",
      "display_name": "Python 3"
    }
  },
  "cells": [
    {
      "cell_type": "markdown",
      "metadata": {
        "id": "view-in-github",
        "colab_type": "text"
      },
      "source": [
        "<a href=\"https://colab.research.google.com/github/pbitalo/titanic-kaggle/blob/master/Projeto_Final_Machine_learning_II.ipynb\" target=\"_parent\"><img src=\"https://colab.research.google.com/assets/colab-badge.svg\" alt=\"Open In Colab\"/></a>"
      ]
    },
    {
      "cell_type": "markdown",
      "metadata": {
        "id": "OP3eD1w9YfYx",
        "colab_type": "text"
      },
      "source": [
        "### TRABALHO FINAL DA DISCIPLINA DE MACHINE LEARNING II.\n",
        "### CURSO DE PÓS GRADUAÇÃO EM CIÊNCIA DE DADOS.\n",
        "### INSTITUIÇÃO: UNIFACISA. Campina Grande / PB.\n",
        "### ALUNO: ÍTALO PEREIRA DE BRITO.\n",
        "### MATRÍCULA: POS1690027."
      ]
    },
    {
      "cell_type": "markdown",
      "metadata": {
        "id": "fDozhDLiYiMo",
        "colab_type": "text"
      },
      "source": [
        "### Objetivo "
      ]
    },
    {
      "cell_type": "markdown",
      "metadata": {
        "id": "w_YeSNIUYksp",
        "colab_type": "text"
      },
      "source": [
        "Realizar análise na base do Titanic e submeter os resultados a competição da plataforma Kaggle, objetivando obter pontuação igual ou superior a 80%."
      ]
    },
    {
      "cell_type": "markdown",
      "metadata": {
        "id": "vfUGjinDYmfo",
        "colab_type": "text"
      },
      "source": [
        "### Importando Bibliotecas"
      ]
    },
    {
      "cell_type": "code",
      "metadata": {
        "id": "Fc8yZdaQYolw",
        "colab_type": "code",
        "colab": {}
      },
      "source": [
        "import pandas as pd\n",
        "import missingno as msno\n",
        "import matplotlib.pyplot as plt\n",
        "import plotly.express as px\n",
        "import numpy as np\n",
        "import statistics\n",
        "import seaborn as sns\n",
        "from sklearn.base import BaseEstimator, TransformerMixin\n",
        "from sklearn.metrics import make_scorer\n",
        "from sklearn.metrics import accuracy_score\n",
        "from sklearn.model_selection import train_test_split\n",
        "from sklearn.model_selection import ParameterGrid\n",
        "from sklearn.model_selection import GridSearchCV\n",
        "from sklearn.ensemble import RandomForestClassifier\n",
        "import xgboost as xgb\n",
        "from xgboost import XGBClassifier\n",
        "from sklearn.model_selection import StratifiedKFold\n",
        "from sklearn.linear_model import LogisticRegression\n",
        "from sklearn.pipeline import Pipeline, FeatureUnion\n",
        "import datetime\n",
        "import time"
      ],
      "execution_count": 0,
      "outputs": []
    },
    {
      "cell_type": "markdown",
      "metadata": {
        "id": "X3cNqwJTYtug",
        "colab_type": "text"
      },
      "source": [
        "### Importando as bases de treino e teste"
      ]
    },
    {
      "cell_type": "code",
      "metadata": {
        "id": "pIzlBLADYxgh",
        "colab_type": "code",
        "colab": {}
      },
      "source": [
        "base_treino = pd.read_csv(\"https://raw.githubusercontent.com/pbitalo/titanic-kaggle/master/train.csv\")\n",
        "base_teste = pd.read_csv(\"https://raw.githubusercontent.com/pbitalo/titanic-kaggle/master/test.csv\")"
      ],
      "execution_count": 0,
      "outputs": []
    },
    {
      "cell_type": "markdown",
      "metadata": {
        "id": "9UHnYUGeZKOh",
        "colab_type": "text"
      },
      "source": [
        "### Análise Exploratória dos Dados (Exploratory Data Analysis / EDA)"
      ]
    },
    {
      "cell_type": "markdown",
      "metadata": {
        "id": "lkGB7rVFZLpg",
        "colab_type": "text"
      },
      "source": [
        "print(\"Tamanho base de treino: {0}\\nTamanho bate de teste size: {1}\".format(base_treino.shape,base_teste.shape))"
      ]
    },
    {
      "cell_type": "code",
      "metadata": {
        "id": "HcdEJMMTZVb4",
        "colab_type": "code",
        "outputId": "63b0b9cc-0a8b-45bf-a0a0-8d114f1f4e65",
        "colab": {
          "base_uri": "https://localhost:8080/",
          "height": 255
        }
      },
      "source": [
        "base_treino.head()"
      ],
      "execution_count": 48,
      "outputs": [
        {
          "output_type": "execute_result",
          "data": {
            "text/html": [
              "<div>\n",
              "<style scoped>\n",
              "    .dataframe tbody tr th:only-of-type {\n",
              "        vertical-align: middle;\n",
              "    }\n",
              "\n",
              "    .dataframe tbody tr th {\n",
              "        vertical-align: top;\n",
              "    }\n",
              "\n",
              "    .dataframe thead th {\n",
              "        text-align: right;\n",
              "    }\n",
              "</style>\n",
              "<table border=\"1\" class=\"dataframe\">\n",
              "  <thead>\n",
              "    <tr style=\"text-align: right;\">\n",
              "      <th></th>\n",
              "      <th>PassengerId</th>\n",
              "      <th>Survived</th>\n",
              "      <th>Pclass</th>\n",
              "      <th>Name</th>\n",
              "      <th>Sex</th>\n",
              "      <th>Age</th>\n",
              "      <th>SibSp</th>\n",
              "      <th>Parch</th>\n",
              "      <th>Ticket</th>\n",
              "      <th>Fare</th>\n",
              "      <th>Cabin</th>\n",
              "      <th>Embarked</th>\n",
              "    </tr>\n",
              "  </thead>\n",
              "  <tbody>\n",
              "    <tr>\n",
              "      <th>0</th>\n",
              "      <td>1</td>\n",
              "      <td>0</td>\n",
              "      <td>3</td>\n",
              "      <td>Braund, Mr. Owen Harris</td>\n",
              "      <td>male</td>\n",
              "      <td>22.0</td>\n",
              "      <td>1</td>\n",
              "      <td>0</td>\n",
              "      <td>A/5 21171</td>\n",
              "      <td>7.2500</td>\n",
              "      <td>NaN</td>\n",
              "      <td>S</td>\n",
              "    </tr>\n",
              "    <tr>\n",
              "      <th>1</th>\n",
              "      <td>2</td>\n",
              "      <td>1</td>\n",
              "      <td>1</td>\n",
              "      <td>Cumings, Mrs. John Bradley (Florence Briggs Th...</td>\n",
              "      <td>female</td>\n",
              "      <td>38.0</td>\n",
              "      <td>1</td>\n",
              "      <td>0</td>\n",
              "      <td>PC 17599</td>\n",
              "      <td>71.2833</td>\n",
              "      <td>C85</td>\n",
              "      <td>C</td>\n",
              "    </tr>\n",
              "    <tr>\n",
              "      <th>2</th>\n",
              "      <td>3</td>\n",
              "      <td>1</td>\n",
              "      <td>3</td>\n",
              "      <td>Heikkinen, Miss. Laina</td>\n",
              "      <td>female</td>\n",
              "      <td>26.0</td>\n",
              "      <td>0</td>\n",
              "      <td>0</td>\n",
              "      <td>STON/O2. 3101282</td>\n",
              "      <td>7.9250</td>\n",
              "      <td>NaN</td>\n",
              "      <td>S</td>\n",
              "    </tr>\n",
              "    <tr>\n",
              "      <th>3</th>\n",
              "      <td>4</td>\n",
              "      <td>1</td>\n",
              "      <td>1</td>\n",
              "      <td>Futrelle, Mrs. Jacques Heath (Lily May Peel)</td>\n",
              "      <td>female</td>\n",
              "      <td>35.0</td>\n",
              "      <td>1</td>\n",
              "      <td>0</td>\n",
              "      <td>113803</td>\n",
              "      <td>53.1000</td>\n",
              "      <td>C123</td>\n",
              "      <td>S</td>\n",
              "    </tr>\n",
              "    <tr>\n",
              "      <th>4</th>\n",
              "      <td>5</td>\n",
              "      <td>0</td>\n",
              "      <td>3</td>\n",
              "      <td>Allen, Mr. William Henry</td>\n",
              "      <td>male</td>\n",
              "      <td>35.0</td>\n",
              "      <td>0</td>\n",
              "      <td>0</td>\n",
              "      <td>373450</td>\n",
              "      <td>8.0500</td>\n",
              "      <td>NaN</td>\n",
              "      <td>S</td>\n",
              "    </tr>\n",
              "  </tbody>\n",
              "</table>\n",
              "</div>"
            ],
            "text/plain": [
              "   PassengerId  Survived  Pclass  ...     Fare Cabin  Embarked\n",
              "0            1         0       3  ...   7.2500   NaN         S\n",
              "1            2         1       1  ...  71.2833   C85         C\n",
              "2            3         1       3  ...   7.9250   NaN         S\n",
              "3            4         1       1  ...  53.1000  C123         S\n",
              "4            5         0       3  ...   8.0500   NaN         S\n",
              "\n",
              "[5 rows x 12 columns]"
            ]
          },
          "metadata": {
            "tags": []
          },
          "execution_count": 48
        }
      ]
    },
    {
      "cell_type": "code",
      "metadata": {
        "id": "QMbZKSUbZWDC",
        "colab_type": "code",
        "outputId": "d6016228-29ed-40c3-caac-7678d2ac8f3e",
        "colab": {
          "base_uri": "https://localhost:8080/",
          "height": 340
        }
      },
      "source": [
        "base_treino.info()"
      ],
      "execution_count": 49,
      "outputs": [
        {
          "output_type": "stream",
          "text": [
            "<class 'pandas.core.frame.DataFrame'>\n",
            "RangeIndex: 891 entries, 0 to 890\n",
            "Data columns (total 12 columns):\n",
            " #   Column       Non-Null Count  Dtype  \n",
            "---  ------       --------------  -----  \n",
            " 0   PassengerId  891 non-null    int64  \n",
            " 1   Survived     891 non-null    int64  \n",
            " 2   Pclass       891 non-null    int64  \n",
            " 3   Name         891 non-null    object \n",
            " 4   Sex          891 non-null    object \n",
            " 5   Age          714 non-null    float64\n",
            " 6   SibSp        891 non-null    int64  \n",
            " 7   Parch        891 non-null    int64  \n",
            " 8   Ticket       891 non-null    object \n",
            " 9   Fare         891 non-null    float64\n",
            " 10  Cabin        204 non-null    object \n",
            " 11  Embarked     889 non-null    object \n",
            "dtypes: float64(2), int64(5), object(5)\n",
            "memory usage: 83.7+ KB\n"
          ],
          "name": "stdout"
        }
      ]
    },
    {
      "cell_type": "markdown",
      "metadata": {
        "id": "sNpO00DAZani",
        "colab_type": "text"
      },
      "source": [
        "Inicialmente temos 5 variaáveis categóricas (Name, Sex, Ticket, Cabin e Embarked) e as demais são numéricas.\n",
        "\n",
        "A seguir, veremos a descrição das colunas. (acesso a descrição no site do [Kaggle](https://www.kaggle.com/c/titanic/data))"
      ]
    },
    {
      "cell_type": "markdown",
      "metadata": {
        "id": "GreR_vs2Ze6H",
        "colab_type": "text"
      },
      "source": [
        "- **PassengerID** - Uma coluna adicionada pelo Kaggle para identificar cada linha e facilitar os envios\n",
        "- **Survived** - - se o passageiro sobreviveu ou não e o valor que estamos prevendo (0 = Não, 1 = Sim)\n",
        "- **Pclass** - A classe do bilhete que o passageiro comprou (1 = 1º, 2 = 2º, 3 = 3º)\n",
        "- **Sex** - O sexo do passageiro\n",
        "- **Age** - A idade do passageiro em anos\n",
        "- **SibSp** - O número de irmãos ou cônjuges que o passageiro tinha a bordo do Titanic\n",
        "- **Parch** - O número de pais ou filhos que o passageiro tinha a bordo do Titanic\n",
        "- **Ticket** - O número do bilhete do passageiro\n",
        "- **Fare** - A tarifa paga pelo passageiro\n",
        "- **Cabin** - O número da cabine do passageiro\n",
        "- **Embarked** - O porto em que o passageiro embarcou (C = Cherbourg, Q = Queenstown, S = Southampton)"
      ]
    },
    {
      "cell_type": "markdown",
      "metadata": {
        "id": "L6VA_11QZoJC",
        "colab_type": "text"
      },
      "source": [
        "#### Dados faltantes"
      ]
    },
    {
      "cell_type": "code",
      "metadata": {
        "id": "bKy2wx51ZoiU",
        "colab_type": "code",
        "outputId": "53d75cf8-3300-4566-99ee-e6bbaa310274",
        "colab": {
          "base_uri": "https://localhost:8080/",
          "height": 893
        }
      },
      "source": [
        "msno.matrix(base_treino,figsize=(10,10))\n",
        "base_treino.isnull().sum()/base_treino.shape[0]"
      ],
      "execution_count": 50,
      "outputs": [
        {
          "output_type": "execute_result",
          "data": {
            "text/plain": [
              "PassengerId    0.000000\n",
              "Survived       0.000000\n",
              "Pclass         0.000000\n",
              "Name           0.000000\n",
              "Sex            0.000000\n",
              "Age            0.198653\n",
              "SibSp          0.000000\n",
              "Parch          0.000000\n",
              "Ticket         0.000000\n",
              "Fare           0.000000\n",
              "Cabin          0.771044\n",
              "Embarked       0.002245\n",
              "dtype: float64"
            ]
          },
          "metadata": {
            "tags": []
          },
          "execution_count": 50
        },
        {
          "output_type": "display_data",
          "data": {
            "image/png": "[encoded data removed]",
            "text/plain": [
              "<Figure size 720x720 with 2 Axes>"
            ]
          },
          "metadata": {
            "tags": [],
            "needs_background": "light"
          }
        }
      ]
    },
    {
      "cell_type": "markdown",
      "metadata": {
        "id": "kIZ2sTz2Z1Xh",
        "colab_type": "text"
      },
      "source": [
        "Verificando quantos registros temos de pessoas que morreram e que sobreviveram na base de treino"
      ]
    },
    {
      "cell_type": "code",
      "metadata": {
        "id": "Bz4j5UOGZ6Qi",
        "colab_type": "code",
        "outputId": "09687cf7-ff86-4f97-913b-5a8020dc36fe",
        "colab": {
          "base_uri": "https://localhost:8080/",
          "height": 272
        }
      },
      "source": [
        "print('Legenda')\n",
        "print('0 = Morreu')\n",
        "print('1 = Sobreviveu')\n",
        "print('------------------------')\n",
        "print('------------------------')\n",
        "\n",
        "print('Número de sobreviventes')\n",
        "print(base_treino.Survived.value_counts())\n",
        "\n",
        "print('------------------------')\n",
        "\n",
        "print('Porcentagem de mortos')\n",
        "print(base_treino['Survived'].value_counts(normalize=True))\n",
        "\n",
        "print('------------------------')"
      ],
      "execution_count": 51,
      "outputs": [
        {
          "output_type": "stream",
          "text": [
            "Legenda\n",
            "0 = Morreu\n",
            "1 = Sobreviveu\n",
            "------------------------\n",
            "------------------------\n",
            "Número de sobreviventes\n",
            "0    549\n",
            "1    342\n",
            "Name: Survived, dtype: int64\n",
            "------------------------\n",
            "Porcentagem de mortos\n",
            "0    0.616162\n",
            "1    0.383838\n",
            "Name: Survived, dtype: float64\n",
            "------------------------\n"
          ],
          "name": "stdout"
        }
      ]
    },
    {
      "cell_type": "code",
      "metadata": {
        "id": "5KguN6zbZ6xV",
        "colab_type": "code",
        "outputId": "ac185101-a3bb-4638-8438-6256a6e29ba8",
        "colab": {
          "base_uri": "https://localhost:8080/",
          "height": 296
        }
      },
      "source": [
        "sns.countplot(base_treino['Survived'], palette=\"Set1\", saturation=0.8)"
      ],
      "execution_count": 52,
      "outputs": [
        {
          "output_type": "execute_result",
          "data": {
            "text/plain": [
              "<matplotlib.axes._subplots.AxesSubplot at 0x7f816c314be0>"
            ]
          },
          "metadata": {
            "tags": []
          },
          "execution_count": 52
        },
        {
          "output_type": "display_data",
          "data": {
            "image/png": "[encoded data removed]",
            "text/plain": [
              "<Figure size 432x288 with 1 Axes>"
            ]
          },
          "metadata": {
            "tags": [],
            "needs_background": "light"
          }
        }
      ]
    },
    {
      "cell_type": "markdown",
      "metadata": {
        "id": "6a_zVWt2aBQr",
        "colab_type": "text"
      },
      "source": [
        "A seguir, vamos observar um gráfico que irá relacionar as variáveis Survived e Pclass"
      ]
    },
    {
      "cell_type": "code",
      "metadata": {
        "id": "WksJbS0GaFOw",
        "colab_type": "code",
        "outputId": "8d161e1d-920d-4833-b5d6-5dd812b3fca2",
        "colab": {
          "base_uri": "https://localhost:8080/",
          "height": 296
        }
      },
      "source": [
        "sns.countplot(base_treino['Pclass'], hue=base_treino['Survived'], palette=\"Set1\", saturation=0.8)"
      ],
      "execution_count": 53,
      "outputs": [
        {
          "output_type": "execute_result",
          "data": {
            "text/plain": [
              "<matplotlib.axes._subplots.AxesSubplot at 0x7f816c26e278>"
            ]
          },
          "metadata": {
            "tags": []
          },
          "execution_count": 53
        },
        {
          "output_type": "display_data",
          "data": {
            "image/png": "[encoded data removed]",
            "text/plain": [
              "<Figure size 432x288 with 1 Axes>"
            ]
          },
          "metadata": {
            "tags": [],
            "needs_background": "light"
          }
        }
      ]
    },
    {
      "cell_type": "markdown",
      "metadata": {
        "id": "RQSbD5g2aK_o",
        "colab_type": "text"
      },
      "source": [
        "Olhando o gráfico, fica perceptível notar que houve mais mortes de integrantes que ocupavam a terceira classe, isso será importe mais a frente para conseguirmos um norte que nos conduzirá a tratarmos os dados a fim de obter novas correlações."
      ]
    },
    {
      "cell_type": "code",
      "metadata": {
        "id": "0-lYBcLfaOGY",
        "colab_type": "code",
        "outputId": "fe1cdc2b-2a2f-468c-cc10-93a538ad91f5",
        "colab": {
          "base_uri": "https://localhost:8080/",
          "height": 613
        }
      },
      "source": [
        "fig, ax = plt.subplots(figsize=(10,10)) \n",
        "sns.heatmap(base_treino.corr().round(2),  linewidths=.5, annot = True)"
      ],
      "execution_count": 54,
      "outputs": [
        {
          "output_type": "execute_result",
          "data": {
            "text/plain": [
              "<matplotlib.axes._subplots.AxesSubplot at 0x7f816c1e2588>"
            ]
          },
          "metadata": {
            "tags": []
          },
          "execution_count": 54
        },
        {
          "output_type": "display_data",
          "data": {
            "image/png": "[encoded data removed]",
            "text/plain": [
              "<Figure size 720x720 with 2 Axes>"
            ]
          },
          "metadata": {
            "tags": [],
            "needs_background": "light"
          }
        }
      ]
    },
    {
      "cell_type": "markdown",
      "metadata": {
        "id": "qagDu3luaRGq",
        "colab_type": "text"
      },
      "source": [
        "As correlações mais fortes que temos nesse momento em relação a variável pretidora são:  Pclass e Fare. Vale comentar que essas correlações de -0.34 e 0.26 são consideradas fracas.\n",
        "\n",
        "A seguir, vamos por em prática a fase de pré-processamento dos dados/engenharia de recursos (feature engineering), onde nelas, iremos manipular os dados a fim de obter novas correlações e correlações mais fortes que iram nos fornecer um modelo mais robusto e consequentemente mais eficaz no processo de previsão.\n",
        "\n",
        "A seguir, vamos observar qual a proporção de sobreviventes entre os sexos."
      ]
    },
    {
      "cell_type": "code",
      "metadata": {
        "id": "z-AVLbIpaTC4",
        "colab_type": "code",
        "outputId": "19f8ba54-b67b-4a9a-d868-415c1bee8a2e",
        "colab": {
          "base_uri": "https://localhost:8080/",
          "height": 338
        }
      },
      "source": [
        "print(\"Mulheres Sobreviventes: {0} %\\nHomens sobreviventes: {1} %\".format(base_treino.pivot_table(index=\"Sex\",values=\"Survived\").iloc[0,0],base_treino.pivot_table(index=\"Sex\",values=\"Survived\").iloc[1,0]))\n",
        "\n",
        "base_treino.pivot_table(index=\"Sex\",values=\"Survived\",).plot.bar()\n",
        "plt.show()"
      ],
      "execution_count": 55,
      "outputs": [
        {
          "output_type": "stream",
          "text": [
            "Mulheres Sobreviventes: 0.7420382165605095 %\n",
            "Homens sobreviventes: 0.18890814558058924 %\n"
          ],
          "name": "stdout"
        },
        {
          "output_type": "display_data",
          "data": {
            "image/png": "[encoded data removed]",
            "text/plain": [
              "<Figure size 432x288 with 1 Axes>"
            ]
          },
          "metadata": {
            "tags": [],
            "needs_background": "light"
          }
        }
      ]
    },
    {
      "cell_type": "markdown",
      "metadata": {
        "id": "1HcKPqOvaXJp",
        "colab_type": "text"
      },
      "source": [
        "### Engenharia de Recursos (feature engineering)"
      ]
    },
    {
      "cell_type": "markdown",
      "metadata": {
        "id": "OHXWgaQ7aar1",
        "colab_type": "text"
      },
      "source": [
        "A variável <strong>\"Name\"</strong>, possuí uma informação relavante que pode ser extraído, que é o título."
      ]
    },
    {
      "cell_type": "code",
      "metadata": {
        "id": "sy2Q8tH4acsx",
        "colab_type": "code",
        "outputId": "2c9fd6f0-87ad-4a9e-aaa6-ec044efe08ea",
        "colab": {
          "base_uri": "https://localhost:8080/",
          "height": 119
        }
      },
      "source": [
        "base_treino['Name'].head()"
      ],
      "execution_count": 56,
      "outputs": [
        {
          "output_type": "execute_result",
          "data": {
            "text/plain": [
              "0                              Braund, Mr. Owen Harris\n",
              "1    Cumings, Mrs. John Bradley (Florence Briggs Th...\n",
              "2                               Heikkinen, Miss. Laina\n",
              "3         Futrelle, Mrs. Jacques Heath (Lily May Peel)\n",
              "4                             Allen, Mr. William Henry\n",
              "Name: Name, dtype: object"
            ]
          },
          "metadata": {
            "tags": []
          },
          "execution_count": 56
        }
      ]
    },
    {
      "cell_type": "markdown",
      "metadata": {
        "id": "BPOzJMGfah8I",
        "colab_type": "text"
      },
      "source": [
        "O título pode estar relacionado a taxa de sobrevivência, pois uma vez que o mesmo defina o grau de \"importância\" do indivíduo na catastrofé, podemos imaginar que quanto maior a titulariadade maior o grau de sobrevivência."
      ]
    },
    {
      "cell_type": "code",
      "metadata": {
        "id": "mmCUZD6Haj_y",
        "colab_type": "code",
        "colab": {}
      },
      "source": [
        "base_treino['Title'] = base_treino['Name'].apply(lambda x: x.split(',')[1]).apply(lambda x: x.split()[0])\n",
        "\n",
        "base_teste['Title'] = base_teste['Name'].apply(lambda x: x.split(',')[1]).apply(lambda x: x.split()[0])"
      ],
      "execution_count": 0,
      "outputs": []
    },
    {
      "cell_type": "markdown",
      "metadata": {
        "id": "dfC819zhamvo",
        "colab_type": "text"
      },
      "source": [
        "- **Número de pessoas a bordo agrupadas por título**"
      ]
    },
    {
      "cell_type": "code",
      "metadata": {
        "id": "6rp0Rgg2anC7",
        "colab_type": "code",
        "outputId": "fd14752d-2069-4dc5-b702-57b56cd81570",
        "colab": {
          "base_uri": "https://localhost:8080/",
          "height": 323
        }
      },
      "source": [
        "base_treino['Title'].value_counts()"
      ],
      "execution_count": 58,
      "outputs": [
        {
          "output_type": "execute_result",
          "data": {
            "text/plain": [
              "Mr.          517\n",
              "Miss.        182\n",
              "Mrs.         125\n",
              "Master.       40\n",
              "Dr.            7\n",
              "Rev.           6\n",
              "Mlle.          2\n",
              "Major.         2\n",
              "Col.           2\n",
              "Mme.           1\n",
              "Lady.          1\n",
              "Jonkheer.      1\n",
              "Don.           1\n",
              "the            1\n",
              "Sir.           1\n",
              "Ms.            1\n",
              "Capt.          1\n",
              "Name: Title, dtype: int64"
            ]
          },
          "metadata": {
            "tags": []
          },
          "execution_count": 58
        }
      ]
    },
    {
      "cell_type": "markdown",
      "metadata": {
        "id": "ynTT38anarvp",
        "colab_type": "text"
      },
      "source": [
        "- **Sobrevivência entre titularidade**"
      ]
    },
    {
      "cell_type": "code",
      "metadata": {
        "id": "1WlN4a5Bawmx",
        "colab_type": "code",
        "outputId": "5ff4f020-91d9-4af9-ae3a-e5158baeefba",
        "colab": {
          "base_uri": "https://localhost:8080/",
          "height": 340
        }
      },
      "source": [
        "base_treino['Survived'].groupby(base_treino['Title']).mean().sort_values()"
      ],
      "execution_count": 59,
      "outputs": [
        {
          "output_type": "execute_result",
          "data": {
            "text/plain": [
              "Title\n",
              "Capt.        0.000000\n",
              "Don.         0.000000\n",
              "Jonkheer.    0.000000\n",
              "Rev.         0.000000\n",
              "Mr.          0.156673\n",
              "Dr.          0.428571\n",
              "Col.         0.500000\n",
              "Major.       0.500000\n",
              "Master.      0.575000\n",
              "Miss.        0.697802\n",
              "Mrs.         0.792000\n",
              "Mme.         1.000000\n",
              "Sir.         1.000000\n",
              "Ms.          1.000000\n",
              "Lady.        1.000000\n",
              "Mlle.        1.000000\n",
              "the          1.000000\n",
              "Name: Survived, dtype: float64"
            ]
          },
          "metadata": {
            "tags": []
          },
          "execution_count": 59
        }
      ]
    },
    {
      "cell_type": "code",
      "metadata": {
        "id": "6vicm37Da0fJ",
        "colab_type": "code",
        "outputId": "742d8aed-cfae-4095-8a07-3e209c6c8b67",
        "colab": {
          "base_uri": "https://localhost:8080/",
          "height": 331
        }
      },
      "source": [
        "base_treino['Survived'].groupby(base_treino['Title']).mean().sort_values().plot.bar(title=\"Média (%) de Sobreviventes por Título\")\n",
        "plt.show()"
      ],
      "execution_count": 60,
      "outputs": [
        {
          "output_type": "display_data",
          "data": {
            "image/png": "[encoded data removed]",
            "text/plain": [
              "<Figure size 432x288 with 1 Axes>"
            ]
          },
          "metadata": {
            "tags": [],
            "needs_background": "light"
          }
        }
      ]
    },
    {
      "cell_type": "markdown",
      "metadata": {
        "id": "6DojoRfMa4Xz",
        "colab_type": "text"
      },
      "source": [
        "Outra relação importante que parece fazer sentido é o tamanho do nome passageiro, pois quanto maior o nome maior o indice de sobrevivência do mesmo, isso pode indicar que o nome tamanho do nome tem relação com o grau de importância desse indivíduo."
      ]
    },
    {
      "cell_type": "code",
      "metadata": {
        "id": "JpjJH-hTa6ZC",
        "colab_type": "code",
        "outputId": "4fd839e9-1266-4495-ebcc-e7e10d3adcec",
        "colab": {
          "base_uri": "https://localhost:8080/",
          "height": 136
        }
      },
      "source": [
        "base_treino['Name_Len'] = base_treino['Name'].apply(lambda x: len(x))\n",
        "base_teste['Name_Len'] = base_teste['Name'].apply(lambda x: len(x))\n",
        "base_treino['Survived'].groupby(pd.qcut(base_treino['Name_Len'],5)).mean()"
      ],
      "execution_count": 61,
      "outputs": [
        {
          "output_type": "execute_result",
          "data": {
            "text/plain": [
              "Name_Len\n",
              "(11.999, 19.0]    0.220588\n",
              "(19.0, 23.0]      0.301282\n",
              "(23.0, 27.0]      0.319797\n",
              "(27.0, 32.0]      0.442424\n",
              "(32.0, 82.0]      0.674556\n",
              "Name: Survived, dtype: float64"
            ]
          },
          "metadata": {
            "tags": []
          },
          "execution_count": 61
        }
      ]
    },
    {
      "cell_type": "code",
      "metadata": {
        "id": "l96S7J3Da8W6",
        "colab_type": "code",
        "outputId": "e7630a0e-527c-4e5e-d404-3c35191e3a1f",
        "colab": {
          "base_uri": "https://localhost:8080/",
          "height": 613
        }
      },
      "source": [
        "fig, ax = plt.subplots(figsize=(10,10)) \n",
        "sns.heatmap(base_treino.corr().round(2),  linewidths=.5, annot = True)"
      ],
      "execution_count": 62,
      "outputs": [
        {
          "output_type": "execute_result",
          "data": {
            "text/plain": [
              "<matplotlib.axes._subplots.AxesSubplot at 0x7f816c000b70>"
            ]
          },
          "metadata": {
            "tags": []
          },
          "execution_count": 62
        },
        {
          "output_type": "display_data",
          "data": {
            "image/png": "[encoded data removed]",
            "text/plain": [
              "<Figure size 720x720 with 2 Axes>"
            ]
          },
          "metadata": {
            "tags": [],
            "needs_background": "light"
          }
        }
      ]
    },
    {
      "cell_type": "markdown",
      "metadata": {
        "id": "whq3idqja-xZ",
        "colab_type": "text"
      },
      "source": [
        "Conseguimos obter uma nova variável com uma boa correlação em relação ao que tínhamos até o momento, sem dúvidas isso irá ajudar os algoritmos a gerar um modelo mais robusto.\n",
        "\n",
        "A seguir, vamos classificar intervalor categóricos para o campo \"Age\".\n",
        "\n",
        "  - **Missing**, para -1 a 0\n",
        "  - **Infant**, para 0 a 5\n",
        "  - **Child**, para 5 a 12\n",
        "  - **Teenager**, para 12 a 18\n",
        "  - **Young Adult**, para 18 a 35\n",
        "  - **Adult**, para 35 a 60\n",
        "  - **Senior**, para 60 a 100"
      ]
    },
    {
      "cell_type": "code",
      "metadata": {
        "id": "sZ4-Ya5ebEVB",
        "colab_type": "code",
        "colab": {}
      },
      "source": [
        "base_treino[\"Age\"] = base_treino[\"Age\"].fillna(-0.5)\n",
        "\n",
        "cut_points = [-1,0,5,12,18,35,60,100]\n",
        "\n",
        "label_names = [\"Missing\",\"Infant\",\"Child\",\n",
        "               \"Teenager\",\"Young Adult\",\"Adult\",\"Senior\"]\n",
        "\n",
        "base_treino[\"Age_categories\"] = pd.cut(base_treino[\"Age\"],\n",
        "                                      cut_points,\n",
        "                                      labels=label_names)"
      ],
      "execution_count": 0,
      "outputs": []
    },
    {
      "cell_type": "markdown",
      "metadata": {
        "id": "hD_F27c2bLiY",
        "colab_type": "text"
      },
      "source": [
        "Veremos no próximo gráfico de coordenadas paralelas a ligação entre Sexo, Classe, Age_categories e Survived."
      ]
    },
    {
      "cell_type": "code",
      "metadata": {
        "id": "ZfGvZ6uBbMG_",
        "colab_type": "code",
        "outputId": "96bc8091-cfb1-4827-c20a-7bc7781c2566",
        "colab": {
          "base_uri": "https://localhost:8080/",
          "height": 542
        }
      },
      "source": [
        "fig = px.parallel_categories(base_treino[[\"Sex\",\"Age_categories\",\"Pclass\",\"Survived\"]],\n",
        "                              color=\"Survived\", \n",
        "                              color_continuous_scale=px.colors.sequential.Sunsetdark)\n",
        "fig.show()"
      ],
      "execution_count": 64,
      "outputs": [
        {
          "output_type": "display_data",
          "data": {
            "text/html": [
              "<html>\n",
              "<head><meta charset=\"utf-8\" /></head>\n",
              "<body>\n",
              "    <div>\n",
              "            <script src=\"https://cdnjs.cloudflare.com/ajax/libs/mathjax/2.7.5/MathJax.js?config=TeX-AMS-MML_SVG\"></script><script type=\"text/javascript\">if (window.MathJax) {MathJax.Hub.Config({SVG: {font: \"STIX-Web\"}});}</script>\n",
              "                <script type=\"text/javascript\">window.PlotlyConfig = {MathJaxConfig: 'local'};</script>\n",
              "        <script src=\"https://cdn.plot.ly/plotly-latest.min.js\"></script>    \n",
              "            <div id=\"54f8e710-4c6f-48b5-a717-fed2c84e6d1e\" class=\"plotly-graph-div\" style=\"height:525px; width:100%;\"></div>\n",
              "            <script type=\"text/javascript\">\n",
              "                \n",
              "                    window.PLOTLYENV=window.PLOTLYENV || {};\n",
              "                    \n",
              "                if (document.getElementById(\"54f8e710-4c6f-48b5-a717-fed2c84e6d1e\")) {\n",
              "                    Plotly.newPlot(\n",
              "                        '54f8e710-4c6f-48b5-a717-fed2c84e6d1e',\n",
              "                        [{\"dimensions\": [{\"label\": \"Sex\", \"values\": [\"male\", \"female\", \"female\", \"female\", \"male\", \"male\", \"male\", \"male\", \"female\", \"female\", \"female\", \"female\", \"male\", \"male\", \"female\", \"female\", \"male\", \"male\", \"female\", \"female\", \"male\", \"male\", \"female\", \"male\", \"female\", \"female\", \"male\", \"male\", \"female\", \"male\", \"male\", \"female\", \"female\", \"male\", \"male\", \"male\", \"male\", \"male\", \"female\", \"female\", \"female\", \"female\", \"male\", \"female\", \"female\", \"male\", \"male\", \"female\", \"male\", \"female\", \"male\", \"male\", \"female\", \"female\", \"male\", \"male\", \"female\", \"male\", \"female\", \"male\", \"male\", \"female\", \"male\", \"male\", \"male\", \"male\", \"female\", \"male\", \"female\", \"male\", \"male\", \"female\", \"male\", \"male\", \"male\", \"male\", \"male\", \"male\", \"male\", \"female\", \"male\", \"male\", \"female\", \"male\", \"female\", \"female\", \"male\", \"male\", \"female\", \"male\", \"male\", \"male\", \"male\", \"male\", \"male\", \"male\", \"male\", \"male\", \"female\", \"male\", \"female\", \"male\", \"male\", \"male\", \"male\", \"male\", \"female\", \"male\", \"male\", \"female\", \"male\", \"female\", \"male\", \"female\", \"female\", \"male\", \"male\", \"male\", \"male\", \"female\", \"male\", \"male\", \"male\", \"female\", \"male\", \"male\", \"male\", \"male\", \"female\", \"male\", \"male\", \"male\", \"female\", \"female\", \"male\", \"male\", \"female\", \"male\", \"male\", \"male\", \"female\", \"female\", \"female\", \"male\", \"male\", \"male\", \"male\", \"female\", \"male\", \"male\", \"male\", \"female\", \"male\", \"male\", \"male\", \"male\", \"female\", \"male\", \"male\", \"male\", \"male\", \"female\", \"male\", \"male\", \"male\", \"male\", \"female\", \"female\", \"male\", \"male\", \"male\", \"male\", \"female\", \"male\", \"male\", \"male\", \"male\", \"female\", \"male\", \"male\", \"female\", \"male\", \"male\", \"male\", \"female\", \"male\", \"female\", \"male\", \"male\", \"male\", \"female\", \"male\", \"female\", \"male\", \"female\", \"female\", \"male\", \"male\", \"female\", \"female\", \"male\", \"male\", \"male\", \"male\", \"male\", \"female\", \"male\", \"male\", \"female\", \"male\", \"male\", \"female\", \"male\", \"male\", \"male\", \"female\", \"female\", \"male\", \"female\", \"male\", \"male\", \"male\", \"male\", \"male\", \"male\", \"male\", \"male\", \"male\", \"male\", \"female\", \"female\", \"male\", \"male\", \"female\", \"male\", \"female\", \"male\", \"female\", \"male\", \"male\", \"female\", \"female\", \"male\", \"male\", \"male\", \"male\", \"female\", \"female\", \"male\", \"male\", \"male\", \"female\", \"male\", \"male\", \"female\", \"female\", \"female\", \"female\", \"female\", \"female\", \"male\", \"male\", \"male\", \"male\", \"female\", \"male\", \"male\", \"male\", \"female\", \"female\", \"male\", \"male\", \"female\", \"male\", \"female\", \"female\", \"female\", \"male\", \"male\", \"female\", \"male\", \"male\", \"male\", \"male\", \"male\", \"male\", \"male\", \"male\", \"male\", \"female\", \"female\", \"female\", \"male\", \"female\", \"male\", \"male\", \"male\", \"female\", \"male\", \"female\", \"female\", \"male\", \"male\", \"female\", \"male\", \"male\", \"female\", \"female\", \"male\", \"female\", \"female\", \"female\", \"female\", \"male\", \"male\", \"female\", \"female\", \"male\", \"female\", \"female\", \"male\", \"male\", \"female\", \"female\", \"male\", \"female\", \"male\", \"female\", \"female\", \"female\", \"female\", \"male\", \"male\", \"male\", \"female\", \"male\", \"male\", \"female\", \"male\", \"male\", \"male\", \"female\", \"male\", \"male\", \"male\", \"female\", \"female\", \"female\", \"male\", \"male\", \"male\", \"male\", \"male\", \"male\", \"male\", \"male\", \"female\", \"female\", \"female\", \"female\", \"male\", \"male\", \"female\", \"male\", \"male\", \"male\", \"female\", \"female\", \"female\", \"female\", \"male\", \"male\", \"male\", \"male\", \"female\", \"female\", \"female\", \"male\", \"male\", \"male\", \"female\", \"female\", \"male\", \"female\", \"male\", \"male\", \"male\", \"female\", \"male\", \"female\", \"male\", \"male\", \"male\", \"female\", \"female\", \"male\", \"female\", \"male\", \"male\", \"female\", \"male\", \"male\", \"female\", \"male\", \"female\", \"male\", \"male\", \"male\", \"male\", \"female\", \"male\", \"male\", \"female\", \"male\", \"male\", \"female\", \"female\", \"female\", \"male\", \"female\", \"male\", \"male\", \"male\", \"female\", \"male\", \"male\", \"female\", \"female\", \"male\", \"male\", \"male\", \"female\", \"female\", \"male\", \"male\", \"female\", \"female\", \"female\", \"male\", \"male\", \"female\", \"male\", \"male\", \"female\", \"male\", \"male\", \"female\", \"male\", \"female\", \"male\", \"male\", \"male\", \"male\", \"male\", \"male\", \"male\", \"male\", \"female\", \"female\", \"male\", \"male\", \"male\", \"male\", \"male\", \"male\", \"male\", \"male\", \"male\", \"male\", \"female\", \"male\", \"male\", \"female\", \"female\", \"female\", \"male\", \"male\", \"male\", \"male\", \"female\", \"male\", \"male\", \"male\", \"female\", \"male\", \"female\", \"female\", \"male\", \"male\", \"male\", \"male\", \"male\", \"male\", \"male\", \"male\", \"male\", \"female\", \"male\", \"female\", \"male\", \"male\", \"female\", \"female\", \"female\", \"female\", \"male\", \"female\", \"male\", \"male\", \"male\", \"male\", \"male\", \"male\", \"female\", \"male\", \"male\", \"female\", \"male\", \"female\", \"male\", \"female\", \"male\", \"male\", \"female\", \"male\", \"male\", \"female\", \"male\", \"male\", \"male\", \"female\", \"male\", \"male\", \"female\", \"female\", \"female\", \"male\", \"female\", \"male\", \"female\", \"female\", \"female\", \"female\", \"male\", \"male\", \"male\", \"female\", \"male\", \"male\", \"male\", \"male\", \"male\", \"male\", \"male\", \"female\", \"male\", \"female\", \"male\", \"female\", \"female\", \"male\", \"male\", \"male\", \"male\", \"female\", \"male\", \"male\", \"female\", \"male\", \"male\", \"male\", \"female\", \"male\", \"female\", \"male\", \"male\", \"female\", \"female\", \"female\", \"male\", \"female\", \"female\", \"male\", \"male\", \"male\", \"female\", \"male\", \"male\", \"male\", \"male\", \"male\", \"female\", \"male\", \"female\", \"male\", \"male\", \"female\", \"male\", \"male\", \"male\", \"female\", \"male\", \"male\", \"male\", \"male\", \"male\", \"male\", \"male\", \"female\", \"female\", \"female\", \"male\", \"female\", \"male\", \"male\", \"female\", \"male\", \"female\", \"female\", \"male\", \"male\", \"male\", \"male\", \"male\", \"male\", \"male\", \"male\", \"female\", \"male\", \"male\", \"male\", \"male\", \"male\", \"male\", \"female\", \"female\", \"male\", \"male\", \"female\", \"male\", \"male\", \"female\", \"female\", \"male\", \"female\", \"male\", \"male\", \"male\", \"male\", \"female\", \"male\", \"female\", \"male\", \"female\", \"female\", \"male\", \"male\", \"female\", \"male\", \"male\", \"male\", \"male\", \"male\", \"male\", \"male\", \"male\", \"male\", \"male\", \"male\", \"female\", \"female\", \"male\", \"male\", \"male\", \"male\", \"male\", \"male\", \"female\", \"female\", \"male\", \"female\", \"male\", \"male\", \"male\", \"male\", \"male\", \"male\", \"male\", \"male\", \"female\", \"male\", \"female\", \"male\", \"male\", \"male\", \"male\", \"male\", \"female\", \"male\", \"male\", \"female\", \"male\", \"female\", \"male\", \"male\", \"male\", \"female\", \"male\", \"female\", \"male\", \"female\", \"male\", \"male\", \"male\", \"male\", \"male\", \"female\", \"female\", \"male\", \"male\", \"female\", \"male\", \"male\", \"male\", \"male\", \"male\", \"female\", \"female\", \"male\", \"female\", \"female\", \"male\", \"male\", \"male\", \"male\", \"male\", \"female\", \"male\", \"male\", \"male\", \"male\", \"male\", \"female\", \"male\", \"male\", \"male\", \"male\", \"female\", \"male\", \"male\", \"female\", \"male\", \"male\", \"male\", \"female\", \"male\", \"male\", \"male\", \"male\", \"female\", \"male\", \"male\", \"male\", \"female\", \"male\", \"female\", \"male\", \"female\", \"male\", \"male\", \"male\", \"male\", \"female\", \"male\", \"female\", \"male\", \"male\", \"female\", \"male\", \"female\", \"female\", \"female\", \"male\", \"male\", \"male\", \"male\", \"female\", \"male\", \"male\", \"male\", \"male\", \"male\", \"female\", \"male\", \"male\", \"male\", \"female\", \"female\", \"male\", \"female\", \"male\", \"female\", \"male\", \"male\", \"male\", \"male\", \"male\", \"female\", \"male\", \"female\", \"male\", \"male\", \"male\", \"female\", \"male\", \"male\", \"female\", \"male\", \"male\", \"male\", \"female\", \"male\", \"male\", \"female\", \"male\", \"male\", \"male\", \"male\", \"male\", \"female\", \"female\", \"male\", \"male\", \"male\", \"male\", \"female\", \"male\", \"male\", \"male\", \"male\", \"male\", \"male\", \"female\", \"male\", \"male\", \"male\", \"male\", \"male\", \"male\", \"female\", \"male\", \"male\", \"female\", \"female\", \"female\", \"female\", \"female\", \"male\", \"female\", \"male\", \"male\", \"male\", \"female\", \"female\", \"male\", \"female\", \"female\", \"male\", \"male\", \"male\", \"male\", \"female\", \"male\", \"male\", \"female\", \"female\", \"male\", \"male\", \"male\", \"female\", \"female\", \"male\", \"female\", \"male\", \"male\", \"female\", \"male\", \"female\", \"female\", \"male\", \"male\"]}, {\"label\": \"Age_categories\", \"values\": [\"Young Adult\", \"Adult\", \"Young Adult\", \"Young Adult\", \"Young Adult\", \"Missing\", \"Adult\", \"Infant\", \"Young Adult\", \"Teenager\", \"Infant\", \"Adult\", \"Young Adult\", \"Adult\", \"Teenager\", \"Adult\", \"Infant\", \"Missing\", \"Young Adult\", \"Missing\", \"Young Adult\", \"Young Adult\", \"Teenager\", \"Young Adult\", \"Child\", \"Adult\", \"Missing\", \"Young Adult\", \"Missing\", \"Missing\", \"Adult\", \"Missing\", \"Missing\", \"Senior\", \"Young Adult\", \"Adult\", \"Missing\", \"Young Adult\", \"Teenager\", \"Teenager\", \"Adult\", \"Young Adult\", \"Missing\", \"Infant\", \"Young Adult\", \"Missing\", \"Missing\", \"Missing\", \"Missing\", \"Teenager\", \"Child\", \"Young Adult\", \"Adult\", \"Young Adult\", \"Senior\", \"Missing\", \"Young Adult\", \"Young Adult\", \"Infant\", \"Child\", \"Young Adult\", \"Adult\", \"Adult\", \"Infant\", \"Missing\", \"Missing\", \"Young Adult\", \"Young Adult\", \"Teenager\", \"Young Adult\", \"Young Adult\", \"Teenager\", \"Young Adult\", \"Young Adult\", \"Young Adult\", \"Young Adult\", \"Missing\", \"Missing\", \"Infant\", \"Young Adult\", \"Young Adult\", \"Young Adult\", \"Missing\", \"Young Adult\", \"Teenager\", \"Young Adult\", \"Teenager\", \"Missing\", \"Young Adult\", \"Young Adult\", \"Young Adult\", \"Young Adult\", \"Adult\", \"Young Adult\", \"Adult\", \"Missing\", \"Senior\", \"Young Adult\", \"Young Adult\", \"Young Adult\", \"Young Adult\", \"Missing\", \"Young Adult\", \"Young Adult\", \"Adult\", \"Young Adult\", \"Young Adult\", \"Missing\", \"Adult\", \"Missing\", \"Adult\", \"Teenager\", \"Young Adult\", \"Young Adult\", \"Teenager\", \"Young Adult\", \"Senior\", \"Young Adult\", \"Young Adult\", \"Infant\", \"Young Adult\", \"Missing\", \"Young Adult\", \"Young Adult\", \"Adult\", \"Child\", \"Missing\", \"Young Adult\", \"Missing\", \"Adult\", \"Young Adult\", \"Young Adult\", \"Adult\", \"Young Adult\", \"Young Adult\", \"Young Adult\", \"Young Adult\", \"Adult\", \"Teenager\", \"Young Adult\", \"Missing\", \"Young Adult\", \"Young Adult\", \"Young Adult\", \"Teenager\", \"Young Adult\", \"Young Adult\", \"Child\", \"Adult\", \"Adult\", \"Adult\", \"Young Adult\", \"Adult\", \"Adult\", \"Missing\", \"Adult\", \"Teenager\", \"Young Adult\", \"Missing\", \"Missing\", \"Adult\", \"Adult\", \"Young Adult\", \"Teenager\", \"Infant\", \"Child\", \"Missing\", \"Adult\", \"Missing\", \"Young Adult\", \"Senior\", \"Infant\", \"Infant\", \"Young Adult\", \"Adult\", \"Teenager\", \"Missing\", \"Adult\", \"Young Adult\", \"Adult\", \"Missing\", \"Missing\", \"Child\", \"Infant\", \"Infant\", \"Missing\", \"Missing\", \"Adult\", \"Adult\", \"Adult\", \"Young Adult\", \"Young Adult\", \"Young Adult\", \"Infant\", \"Adult\", \"Adult\", \"Missing\", \"Adult\", \"Missing\", \"Young Adult\", \"Young Adult\", \"Missing\", \"Young Adult\", \"Adult\", \"Teenager\", \"Infant\", \"Young Adult\", \"Young Adult\", \"Teenager\", \"Adult\", \"Young Adult\", \"Young Adult\", \"Young Adult\", \"Young Adult\", \"Missing\", \"Young Adult\", \"Young Adult\", \"Adult\", \"Young Adult\", \"Young Adult\", \"Teenager\", \"Young Adult\", \"Adult\", \"Missing\", \"Adult\", \"Young Adult\", \"Young Adult\", \"Young Adult\", \"Teenager\", \"Missing\", \"Young Adult\", \"Young Adult\", \"Adult\", \"Infant\", \"Young Adult\", \"Missing\", \"Adult\", \"Child\", \"Young Adult\", \"Young Adult\", \"Missing\", \"Missing\", \"Young Adult\", \"Young Adult\", \"Young Adult\", \"Adult\", \"Young Adult\", \"Young Adult\", \"Adult\", \"Adult\", \"Missing\", \"Young Adult\", \"Senior\", \"Young Adult\", \"Adult\", \"Young Adult\", \"Missing\", \"Young Adult\", \"Young Adult\", \"Adult\", \"Missing\", \"Infant\", \"Adult\", \"Adult\", \"Missing\", \"Adult\", \"Teenager\", \"Young Adult\", \"Adult\", \"Young Adult\", \"Missing\", \"Young Adult\", \"Adult\", \"Adult\", \"Missing\", \"Senior\", \"Adult\", \"Missing\", \"Child\", \"Young Adult\", \"Senior\", \"Young Adult\", \"Teenager\", \"Young Adult\", \"Missing\", \"Young Adult\", \"Young Adult\", \"Young Adult\", \"Adult\", \"Young Adult\", \"Young Adult\", \"Young Adult\", \"Adult\", \"Young Adult\", \"Young Adult\", \"Missing\", \"Young Adult\", \"Infant\", \"Missing\", \"Adult\", \"Missing\", \"Missing\", \"Young Adult\", \"Missing\", \"Missing\", \"Infant\", \"Missing\", \"Teenager\", \"Young Adult\", \"Young Adult\", \"Young Adult\", \"Teenager\", \"Young Adult\", \"Young Adult\", \"Adult\", \"Young Adult\", \"Young Adult\", \"Adult\", \"Young Adult\", \"Adult\", \"Young Adult\", \"Young Adult\", \"Young Adult\", \"Young Adult\", \"Missing\", \"Adult\", \"Senior\", \"Adult\", \"Young Adult\", \"Teenager\", \"Missing\", \"Adult\", \"Adult\", \"Teenager\", \"Missing\", \"Missing\", \"Young Adult\", \"Adult\", \"Adult\", \"Adult\", \"Infant\", \"Young Adult\", \"Young Adult\", \"Young Adult\", \"Adult\", \"Young Adult\", \"Adult\", \"Missing\", \"Infant\", \"Adult\", \"Young Adult\", \"Missing\", \"Teenager\", \"Young Adult\", \"Missing\", \"Young Adult\", \"Young Adult\", \"Adult\", \"Missing\", \"Missing\", \"Adult\", \"Young Adult\", \"Adult\", \"Young Adult\", \"Missing\", \"Young Adult\", \"Adult\", \"Missing\", \"Missing\", \"Young Adult\", \"Young Adult\", \"Teenager\", \"Young Adult\", \"Young Adult\", \"Infant\", \"Missing\", \"Young Adult\", \"Young Adult\", \"Young Adult\", \"Young Adult\", \"Adult\", \"Infant\", \"Young Adult\", \"Young Adult\", \"Missing\", \"Teenager\", \"Infant\", \"Adult\", \"Missing\", \"Teenager\", \"Adult\", \"Young Adult\", \"Young Adult\", \"Young Adult\", \"Young Adult\", \"Young Adult\", \"Young Adult\", \"Adult\", \"Young Adult\", \"Young Adult\", \"Adult\", \"Young Adult\", \"Young Adult\", \"Young Adult\", \"Young Adult\", \"Young Adult\", \"Adult\", \"Infant\", \"Young Adult\", \"Missing\", \"Missing\", \"Missing\", \"Young Adult\", \"Missing\", \"Adult\", \"Missing\", \"Young Adult\", \"Teenager\", \"Young Adult\", \"Child\", \"Missing\", \"Young Adult\", \"Young Adult\", \"Young Adult\", \"Teenager\", \"Missing\", \"Young Adult\", \"Young Adult\", \"Missing\", \"Young Adult\", \"Young Adult\", \"Missing\", \"Adult\", \"Teenager\", \"Adult\", \"Teenager\", \"Young Adult\", \"Young Adult\", \"Senior\", \"Young Adult\", \"Adult\", \"Young Adult\", \"Young Adult\", \"Young Adult\", \"Missing\", \"Infant\", \"Teenager\", \"Young Adult\", \"Infant\", \"Adult\", \"Adult\", \"Missing\", \"Young Adult\", \"Adult\", \"Missing\", \"Young Adult\", \"Senior\", \"Missing\", \"Adult\", \"Missing\", \"Adult\", \"Young Adult\", \"Adult\", \"Adult\", \"Missing\", \"Adult\", \"Missing\", \"Adult\", \"Missing\", \"Infant\", \"Missing\", \"Adult\", \"Young Adult\", \"Young Adult\", \"Young Adult\", \"Missing\", \"Young Adult\", \"Young Adult\", \"Young Adult\", \"Infant\", \"Child\", \"Missing\", \"Adult\", \"Senior\", \"Young Adult\", \"Missing\", \"Young Adult\", \"Adult\", \"Young Adult\", \"Child\", \"Missing\", \"Young Adult\", \"Adult\", \"Senior\", \"Young Adult\", \"Missing\", \"Adult\", \"Missing\", \"Young Adult\", \"Young Adult\", \"Teenager\", \"Young Adult\", \"Missing\", \"Adult\", \"Teenager\", \"Teenager\", \"Young Adult\", \"Missing\", \"Young Adult\", \"Young Adult\", \"Young Adult\", \"Missing\", \"Adult\", \"Adult\", \"Young Adult\", \"Adult\", \"Young Adult\", \"Missing\", \"Adult\", \"Young Adult\", \"Young Adult\", \"Young Adult\", \"Missing\", \"Adult\", \"Missing\", \"Adult\", \"Adult\", \"Missing\", \"Adult\", \"Young Adult\", \"Infant\", \"Missing\", \"Teenager\", \"Missing\", \"Young Adult\", \"Child\", \"Adult\", \"Young Adult\", \"Missing\", \"Young Adult\", \"Adult\", \"Child\", \"Child\", \"Young Adult\", \"Adult\", \"Senior\", \"Young Adult\", \"Missing\", \"Young Adult\", \"Child\", \"Teenager\", \"Young Adult\", \"Missing\", \"Young Adult\", \"Young Adult\", \"Senior\", \"Adult\", \"Missing\", \"Adult\", \"Adult\", \"Missing\", \"Adult\", \"Young Adult\", \"Missing\", \"Missing\", \"Young Adult\", \"Young Adult\", \"Young Adult\", \"Missing\", \"Young Adult\", \"Senior\", \"Adult\", \"Adult\", \"Missing\", \"Teenager\", \"Young Adult\", \"Young Adult\", \"Adult\", \"Missing\", \"Young Adult\", \"Young Adult\", \"Adult\", \"Adult\", \"Adult\", \"Missing\", \"Teenager\", \"Adult\", \"Adult\", \"Young Adult\", \"Missing\", \"Young Adult\", \"Adult\", \"Adult\", \"Missing\", \"Adult\", \"Adult\", \"Missing\", \"Adult\", \"Missing\", \"Adult\", \"Young Adult\", \"Missing\", \"Missing\", \"Adult\", \"Young Adult\", \"Adult\", \"Young Adult\", \"Young Adult\", \"Young Adult\", \"Adult\", \"Adult\", \"Missing\", \"Missing\", \"Missing\", \"Young Adult\", \"Young Adult\", \"Young Adult\", \"Young Adult\", \"Infant\", \"Young Adult\", \"Young Adult\", \"Adult\", \"Young Adult\", \"Young Adult\", \"Young Adult\", \"Senior\", \"Adult\", \"Young Adult\", \"Young Adult\", \"Missing\", \"Senior\", \"Adult\", \"Young Adult\", \"Missing\", \"Child\", \"Young Adult\", \"Young Adult\", \"Young Adult\", \"Adult\", \"Missing\", \"Young Adult\", \"Young Adult\", \"Infant\", \"Missing\", \"Infant\", \"Adult\", \"Young Adult\", \"Adult\", \"Missing\", \"Young Adult\", \"Missing\", \"Teenager\", \"Young Adult\", \"Missing\", \"Teenager\", \"Young Adult\", \"Missing\", \"Young Adult\", \"Young Adult\", \"Adult\", \"Adult\", \"Adult\", \"Adult\", \"Adult\", \"Young Adult\", \"Young Adult\", \"Young Adult\", \"Missing\", \"Adult\", \"Missing\", \"Adult\", \"Young Adult\", \"Senior\", \"Young Adult\", \"Missing\", \"Teenager\", \"Young Adult\", \"Teenager\", \"Adult\", \"Adult\", \"Missing\", \"Young Adult\", \"Young Adult\", \"Teenager\", \"Adult\", \"Young Adult\", \"Teenager\", \"Young Adult\", \"Teenager\", \"Teenager\", \"Young Adult\", \"Infant\", \"Missing\", \"Young Adult\", \"Adult\", \"Adult\", \"Adult\", \"Missing\", \"Adult\", \"Adult\", \"Teenager\", \"Young Adult\", \"Teenager\", \"Young Adult\", \"Young Adult\", \"Adult\", \"Adult\", \"Adult\", \"Young Adult\", \"Missing\", \"Young Adult\", \"Missing\", \"Adult\", \"Young Adult\", \"Adult\", \"Young Adult\", \"Adult\", \"Young Adult\", \"Missing\", \"Young Adult\", \"Child\", \"Teenager\", \"Young Adult\", \"Adult\", \"Young Adult\", \"Young Adult\", \"Young Adult\", \"Missing\", \"Young Adult\", \"Young Adult\", \"Young Adult\", \"Child\", \"Missing\", \"Young Adult\", \"Young Adult\", \"Young Adult\", \"Adult\", \"Young Adult\", \"Missing\", \"Missing\", \"Missing\", \"Adult\", \"Young Adult\", \"Young Adult\", \"Young Adult\", \"Senior\", \"Teenager\", \"Young Adult\", \"Young Adult\", \"Young Adult\", \"Infant\", \"Child\", \"Young Adult\", \"Young Adult\", \"Adult\", \"Infant\", \"Young Adult\", \"Teenager\", \"Young Adult\", \"Young Adult\", \"Missing\", \"Adult\", \"Young Adult\", \"Adult\", \"Teenager\", \"Adult\", \"Missing\", \"Young Adult\", \"Missing\", \"Young Adult\", \"Young Adult\", \"Adult\", \"Adult\", \"Missing\", \"Adult\", \"Teenager\", \"Missing\", \"Infant\", \"Missing\", \"Adult\", \"Teenager\", \"Teenager\", \"Young Adult\", \"Missing\", \"Young Adult\", \"Young Adult\", \"Teenager\", \"Child\", \"Infant\", \"Adult\", \"Missing\", \"Teenager\", \"Missing\", \"Missing\", \"Young Adult\", \"Adult\", \"Adult\", \"Young Adult\", \"Young Adult\", \"Young Adult\", \"Young Adult\", \"Young Adult\", \"Child\", \"Infant\", \"Young Adult\", \"Young Adult\", \"Adult\", \"Teenager\", \"Adult\", \"Young Adult\", \"Young Adult\", \"Adult\", \"Young Adult\", \"Child\", \"Young Adult\", \"Missing\", \"Young Adult\", \"Young Adult\", \"Adult\", \"Child\", \"Adult\", \"Young Adult\", \"Adult\", \"Young Adult\", \"Infant\", \"Missing\", \"Missing\", \"Infant\", \"Missing\", \"Senior\", \"Teenager\", \"Infant\", \"Missing\", \"Young Adult\", \"Teenager\", \"Adult\", \"Young Adult\", \"Missing\", \"Young Adult\", \"Missing\", \"Young Adult\", \"Teenager\", \"Young Adult\", \"Young Adult\", \"Teenager\", \"Adult\", \"Missing\", \"Young Adult\", \"Young Adult\", \"Missing\", \"Infant\", \"Senior\", \"Child\", \"Teenager\", \"Adult\", \"Teenager\", \"Adult\", \"Adult\", \"Young Adult\", \"Missing\", \"Adult\", \"Young Adult\", \"Adult\", \"Missing\", \"Young Adult\", \"Adult\", \"Young Adult\", \"Young Adult\", \"Missing\", \"Infant\", \"Young Adult\", \"Adult\", \"Young Adult\", \"Adult\", \"Young Adult\", \"Teenager\", \"Young Adult\", \"Young Adult\", \"Missing\", \"Adult\", \"Young Adult\", \"Young Adult\", \"Young Adult\", \"Young Adult\", \"Young Adult\", \"Adult\", \"Young Adult\", \"Young Adult\", \"Missing\", \"Young Adult\", \"Young Adult\"]}, {\"label\": \"Pclass\", \"values\": [3, 1, 3, 1, 3, 3, 1, 3, 3, 2, 3, 1, 3, 3, 3, 2, 3, 2, 3, 3, 2, 2, 3, 1, 3, 3, 3, 1, 3, 3, 1, 1, 3, 2, 1, 1, 3, 3, 3, 3, 3, 2, 3, 2, 3, 3, 3, 3, 3, 3, 3, 3, 1, 2, 1, 1, 2, 3, 2, 3, 3, 1, 1, 3, 1, 3, 2, 3, 3, 3, 2, 3, 2, 3, 3, 3, 3, 3, 2, 3, 3, 3, 3, 1, 2, 3, 3, 3, 1, 3, 3, 3, 1, 3, 3, 3, 1, 1, 2, 2, 3, 3, 1, 3, 3, 3, 3, 3, 3, 3, 1, 3, 3, 3, 3, 3, 3, 2, 1, 3, 2, 3, 2, 2, 1, 3, 3, 3, 3, 3, 3, 3, 3, 2, 2, 2, 1, 1, 3, 1, 3, 3, 3, 3, 2, 2, 3, 3, 2, 2, 2, 1, 3, 3, 3, 1, 3, 3, 3, 3, 3, 2, 3, 3, 3, 3, 1, 3, 1, 3, 1, 3, 3, 3, 1, 3, 3, 1, 2, 3, 3, 2, 3, 2, 3, 1, 3, 1, 3, 3, 2, 2, 3, 2, 1, 1, 3, 3, 3, 2, 3, 3, 3, 3, 3, 3, 3, 3, 3, 1, 3, 2, 3, 2, 3, 1, 3, 2, 1, 2, 3, 2, 3, 3, 1, 3, 2, 3, 2, 3, 1, 3, 2, 3, 2, 3, 2, 2, 2, 2, 3, 3, 2, 3, 3, 1, 3, 2, 1, 2, 3, 3, 1, 3, 3, 3, 1, 1, 1, 2, 3, 3, 1, 1, 3, 2, 3, 3, 1, 1, 1, 3, 2, 1, 3, 1, 3, 2, 3, 3, 3, 3, 3, 3, 1, 3, 3, 3, 2, 3, 1, 1, 2, 3, 3, 1, 3, 1, 1, 1, 3, 3, 3, 2, 3, 1, 1, 1, 2, 1, 1, 1, 2, 3, 2, 3, 2, 2, 1, 1, 3, 3, 2, 2, 3, 1, 3, 2, 3, 1, 3, 1, 1, 3, 1, 3, 1, 1, 3, 1, 2, 1, 2, 2, 2, 2, 2, 3, 3, 3, 3, 1, 3, 3, 3, 3, 1, 2, 3, 3, 3, 2, 3, 3, 3, 3, 1, 3, 3, 1, 1, 3, 3, 1, 3, 1, 3, 1, 3, 3, 1, 3, 3, 1, 3, 2, 3, 2, 3, 2, 1, 3, 3, 1, 3, 3, 3, 2, 2, 2, 3, 3, 3, 3, 3, 2, 3, 2, 3, 3, 3, 3, 1, 2, 3, 3, 2, 2, 2, 3, 3, 3, 3, 3, 3, 3, 2, 2, 3, 3, 1, 3, 2, 3, 1, 1, 3, 2, 1, 2, 2, 3, 3, 2, 3, 1, 2, 1, 3, 1, 2, 3, 1, 1, 3, 3, 1, 1, 2, 3, 1, 3, 1, 2, 3, 3, 2, 1, 3, 3, 3, 3, 2, 2, 3, 1, 2, 3, 3, 3, 3, 2, 3, 3, 1, 3, 1, 1, 3, 3, 3, 3, 1, 1, 3, 3, 1, 3, 1, 3, 3, 3, 3, 3, 1, 1, 2, 1, 3, 3, 3, 3, 1, 1, 3, 1, 2, 3, 2, 3, 1, 3, 3, 1, 3, 3, 2, 1, 3, 2, 2, 3, 3, 3, 3, 2, 1, 1, 3, 1, 1, 3, 3, 2, 1, 1, 2, 2, 3, 2, 1, 2, 3, 3, 3, 1, 1, 1, 1, 3, 3, 3, 2, 3, 3, 3, 3, 3, 3, 3, 2, 1, 1, 3, 3, 3, 2, 1, 3, 3, 2, 1, 2, 1, 3, 1, 2, 1, 3, 3, 3, 1, 3, 3, 2, 3, 2, 3, 3, 1, 2, 3, 1, 3, 1, 3, 3, 1, 2, 1, 3, 3, 3, 3, 3, 2, 3, 3, 2, 2, 3, 1, 3, 3, 3, 1, 2, 1, 3, 3, 1, 3, 1, 1, 3, 2, 3, 2, 3, 3, 3, 1, 3, 3, 3, 1, 3, 1, 3, 3, 3, 2, 3, 3, 3, 2, 3, 3, 2, 1, 1, 3, 1, 3, 3, 2, 2, 3, 3, 1, 2, 1, 2, 2, 2, 3, 3, 3, 3, 1, 3, 1, 3, 3, 2, 2, 3, 3, 3, 1, 1, 3, 3, 3, 1, 2, 3, 3, 1, 3, 1, 1, 3, 3, 3, 2, 2, 1, 1, 3, 1, 1, 1, 3, 2, 3, 1, 2, 3, 3, 2, 3, 2, 2, 1, 3, 2, 3, 2, 3, 1, 3, 2, 2, 2, 3, 3, 1, 3, 3, 1, 1, 1, 3, 3, 1, 3, 2, 1, 3, 2, 3, 3, 3, 2, 2, 3, 2, 3, 1, 3, 3, 3, 1, 3, 1, 1, 3, 3, 3, 3, 3, 2, 3, 2, 3, 3, 3, 3, 1, 3, 1, 1, 3, 3, 3, 3, 3, 3, 1, 3, 2, 3, 1, 3, 2, 1, 3, 3, 3, 2, 2, 1, 3, 3, 3, 1, 3, 2, 1, 3, 3, 2, 3, 3, 1, 3, 2, 3, 3, 1, 3, 1, 3, 3, 3, 3, 2, 3, 1, 3, 2, 3, 3, 3, 1, 3, 3, 3, 1, 3, 2, 1, 3, 3, 3, 3, 3, 2, 1, 3, 3, 3, 1, 2, 3, 1, 1, 3, 3, 3, 2, 1, 3, 2, 2, 2, 1, 3, 3, 3, 1, 1, 3, 2, 3, 3, 3, 3, 1, 2, 3, 3, 2, 3, 3, 2, 1, 3, 1, 3]}, {\"label\": \"Survived\", \"values\": [0, 1, 1, 1, 0, 0, 0, 0, 1, 1, 1, 1, 0, 0, 0, 1, 0, 1, 0, 1, 0, 1, 1, 1, 0, 1, 0, 0, 1, 0, 0, 1, 1, 0, 0, 0, 1, 0, 0, 1, 0, 0, 0, 1, 1, 0, 0, 1, 0, 0, 0, 0, 1, 1, 0, 1, 1, 0, 1, 0, 0, 1, 0, 0, 0, 1, 1, 0, 1, 0, 0, 0, 0, 0, 1, 0, 0, 0, 1, 1, 0, 1, 1, 0, 1, 1, 0, 0, 1, 0, 0, 0, 0, 0, 0, 0, 0, 1, 1, 0, 0, 0, 0, 0, 0, 0, 1, 1, 0, 1, 0, 0, 0, 0, 0, 0, 0, 0, 0, 0, 0, 0, 0, 1, 0, 1, 0, 1, 1, 0, 0, 0, 0, 1, 0, 0, 1, 0, 0, 0, 0, 1, 1, 0, 0, 0, 1, 0, 0, 0, 0, 1, 0, 0, 0, 0, 1, 0, 0, 0, 0, 1, 0, 0, 0, 1, 1, 0, 0, 0, 0, 0, 1, 0, 0, 0, 0, 0, 0, 0, 0, 0, 0, 1, 1, 0, 1, 1, 0, 0, 1, 0, 1, 1, 1, 1, 0, 0, 1, 0, 0, 0, 0, 0, 1, 0, 0, 1, 1, 1, 0, 1, 0, 0, 0, 1, 1, 0, 1, 0, 1, 0, 0, 0, 1, 0, 1, 0, 0, 0, 1, 0, 0, 1, 0, 0, 0, 1, 0, 0, 0, 1, 0, 0, 0, 0, 0, 1, 1, 0, 0, 0, 0, 0, 0, 1, 1, 1, 1, 1, 0, 1, 0, 0, 0, 0, 0, 1, 1, 1, 0, 1, 1, 0, 1, 1, 0, 0, 0, 1, 0, 0, 0, 1, 0, 0, 1, 0, 1, 1, 1, 1, 0, 0, 0, 0, 0, 0, 1, 1, 1, 1, 0, 1, 0, 1, 1, 1, 0, 1, 1, 1, 0, 0, 0, 1, 1, 0, 1, 1, 0, 0, 1, 1, 0, 1, 0, 1, 1, 1, 1, 0, 0, 0, 1, 0, 0, 1, 1, 0, 1, 1, 0, 0, 0, 1, 1, 1, 1, 0, 0, 0, 0, 0, 0, 0, 1, 0, 1, 1, 0, 0, 0, 0, 0, 0, 1, 1, 1, 1, 1, 0, 0, 0, 0, 1, 1, 0, 0, 0, 1, 1, 0, 1, 0, 0, 0, 1, 0, 1, 1, 1, 0, 1, 1, 0, 0, 0, 0, 1, 1, 0, 0, 0, 0, 0, 0, 1, 0, 0, 0, 0, 1, 0, 1, 0, 1, 1, 0, 0, 0, 0, 0, 0, 0, 0, 1, 1, 0, 1, 1, 1, 1, 0, 0, 1, 0, 1, 0, 0, 1, 0, 0, 1, 1, 1, 1, 1, 1, 1, 0, 0, 0, 1, 0, 1, 0, 1, 1, 0, 1, 0, 0, 0, 0, 0, 0, 0, 0, 1, 0, 0, 1, 1, 0, 0, 0, 0, 0, 1, 0, 0, 0, 1, 1, 0, 1, 0, 0, 1, 0, 0, 0, 0, 0, 0, 1, 0, 0, 0, 0, 0, 0, 0, 1, 0, 1, 1, 0, 1, 1, 0, 1, 1, 0, 0, 1, 0, 1, 0, 1, 0, 0, 1, 0, 0, 1, 0, 0, 0, 1, 0, 0, 1, 0, 1, 0, 1, 0, 1, 1, 0, 0, 1, 0, 0, 1, 1, 0, 1, 1, 0, 0, 1, 1, 0, 1, 0, 1, 1, 0, 0, 0, 0, 0, 0, 0, 0, 0, 1, 1, 1, 1, 1, 0, 0, 1, 1, 0, 1, 1, 1, 0, 0, 0, 1, 0, 1, 0, 0, 0, 1, 0, 0, 0, 0, 1, 0, 0, 1, 1, 0, 0, 0, 1, 0, 0, 1, 1, 1, 0, 0, 1, 0, 0, 1, 0, 0, 1, 0, 0, 1, 1, 0, 0, 0, 0, 1, 0, 0, 1, 0, 1, 0, 0, 1, 0, 0, 0, 0, 0, 1, 0, 1, 1, 1, 0, 1, 0, 1, 0, 1, 0, 1, 0, 0, 0, 0, 0, 0, 1, 0, 0, 0, 1, 0, 0, 0, 0, 1, 1, 0, 0, 1, 0, 0, 0, 1, 0, 1, 0, 1, 0, 0, 0, 0, 0, 0, 0, 1, 1, 1, 1, 0, 0, 0, 0, 1, 0, 0, 1, 1, 0, 0, 0, 0, 1, 1, 1, 1, 1, 0, 1, 0, 0, 0, 1, 1, 0, 0, 1, 0, 0, 0, 1, 0, 1, 1, 0, 0, 1, 0, 0, 0, 0, 0, 0, 1, 0, 0, 1, 0, 1, 0, 1, 0, 0, 1, 0, 0, 1, 1, 0, 0, 1, 1, 0, 0, 0, 1, 0, 0, 1, 1, 0, 1, 0, 0, 0, 0, 0, 0, 0, 0, 1, 0, 0, 1, 0, 1, 1, 1, 0, 0, 0, 0, 1, 0, 1, 0, 0, 0, 0, 0, 0, 0, 1, 1, 0, 0, 0, 1, 1, 1, 1, 0, 0, 0, 0, 1, 0, 0, 0, 0, 0, 0, 0, 0, 0, 0, 1, 1, 0, 1, 0, 0, 0, 1, 1, 1, 1, 1, 0, 0, 0, 1, 0, 0, 1, 1, 0, 0, 1, 0, 0, 0, 0, 0, 0, 1, 0, 0, 0, 1, 0, 1, 1, 1, 1, 0, 0, 0, 1, 0, 0, 1, 1, 0, 0, 1, 0, 1, 0, 0, 1, 1, 0, 0, 0, 1, 1, 0, 0, 0, 0, 0, 0, 1, 0, 1, 0]}], \"domain\": {\"x\": [0.0, 1.0], \"y\": [0.0, 1.0]}, \"line\": {\"color\": [0, 1, 1, 1, 0, 0, 0, 0, 1, 1, 1, 1, 0, 0, 0, 1, 0, 1, 0, 1, 0, 1, 1, 1, 0, 1, 0, 0, 1, 0, 0, 1, 1, 0, 0, 0, 1, 0, 0, 1, 0, 0, 0, 1, 1, 0, 0, 1, 0, 0, 0, 0, 1, 1, 0, 1, 1, 0, 1, 0, 0, 1, 0, 0, 0, 1, 1, 0, 1, 0, 0, 0, 0, 0, 1, 0, 0, 0, 1, 1, 0, 1, 1, 0, 1, 1, 0, 0, 1, 0, 0, 0, 0, 0, 0, 0, 0, 1, 1, 0, 0, 0, 0, 0, 0, 0, 1, 1, 0, 1, 0, 0, 0, 0, 0, 0, 0, 0, 0, 0, 0, 0, 0, 1, 0, 1, 0, 1, 1, 0, 0, 0, 0, 1, 0, 0, 1, 0, 0, 0, 0, 1, 1, 0, 0, 0, 1, 0, 0, 0, 0, 1, 0, 0, 0, 0, 1, 0, 0, 0, 0, 1, 0, 0, 0, 1, 1, 0, 0, 0, 0, 0, 1, 0, 0, 0, 0, 0, 0, 0, 0, 0, 0, 1, 1, 0, 1, 1, 0, 0, 1, 0, 1, 1, 1, 1, 0, 0, 1, 0, 0, 0, 0, 0, 1, 0, 0, 1, 1, 1, 0, 1, 0, 0, 0, 1, 1, 0, 1, 0, 1, 0, 0, 0, 1, 0, 1, 0, 0, 0, 1, 0, 0, 1, 0, 0, 0, 1, 0, 0, 0, 1, 0, 0, 0, 0, 0, 1, 1, 0, 0, 0, 0, 0, 0, 1, 1, 1, 1, 1, 0, 1, 0, 0, 0, 0, 0, 1, 1, 1, 0, 1, 1, 0, 1, 1, 0, 0, 0, 1, 0, 0, 0, 1, 0, 0, 1, 0, 1, 1, 1, 1, 0, 0, 0, 0, 0, 0, 1, 1, 1, 1, 0, 1, 0, 1, 1, 1, 0, 1, 1, 1, 0, 0, 0, 1, 1, 0, 1, 1, 0, 0, 1, 1, 0, 1, 0, 1, 1, 1, 1, 0, 0, 0, 1, 0, 0, 1, 1, 0, 1, 1, 0, 0, 0, 1, 1, 1, 1, 0, 0, 0, 0, 0, 0, 0, 1, 0, 1, 1, 0, 0, 0, 0, 0, 0, 1, 1, 1, 1, 1, 0, 0, 0, 0, 1, 1, 0, 0, 0, 1, 1, 0, 1, 0, 0, 0, 1, 0, 1, 1, 1, 0, 1, 1, 0, 0, 0, 0, 1, 1, 0, 0, 0, 0, 0, 0, 1, 0, 0, 0, 0, 1, 0, 1, 0, 1, 1, 0, 0, 0, 0, 0, 0, 0, 0, 1, 1, 0, 1, 1, 1, 1, 0, 0, 1, 0, 1, 0, 0, 1, 0, 0, 1, 1, 1, 1, 1, 1, 1, 0, 0, 0, 1, 0, 1, 0, 1, 1, 0, 1, 0, 0, 0, 0, 0, 0, 0, 0, 1, 0, 0, 1, 1, 0, 0, 0, 0, 0, 1, 0, 0, 0, 1, 1, 0, 1, 0, 0, 1, 0, 0, 0, 0, 0, 0, 1, 0, 0, 0, 0, 0, 0, 0, 1, 0, 1, 1, 0, 1, 1, 0, 1, 1, 0, 0, 1, 0, 1, 0, 1, 0, 0, 1, 0, 0, 1, 0, 0, 0, 1, 0, 0, 1, 0, 1, 0, 1, 0, 1, 1, 0, 0, 1, 0, 0, 1, 1, 0, 1, 1, 0, 0, 1, 1, 0, 1, 0, 1, 1, 0, 0, 0, 0, 0, 0, 0, 0, 0, 1, 1, 1, 1, 1, 0, 0, 1, 1, 0, 1, 1, 1, 0, 0, 0, 1, 0, 1, 0, 0, 0, 1, 0, 0, 0, 0, 1, 0, 0, 1, 1, 0, 0, 0, 1, 0, 0, 1, 1, 1, 0, 0, 1, 0, 0, 1, 0, 0, 1, 0, 0, 1, 1, 0, 0, 0, 0, 1, 0, 0, 1, 0, 1, 0, 0, 1, 0, 0, 0, 0, 0, 1, 0, 1, 1, 1, 0, 1, 0, 1, 0, 1, 0, 1, 0, 0, 0, 0, 0, 0, 1, 0, 0, 0, 1, 0, 0, 0, 0, 1, 1, 0, 0, 1, 0, 0, 0, 1, 0, 1, 0, 1, 0, 0, 0, 0, 0, 0, 0, 1, 1, 1, 1, 0, 0, 0, 0, 1, 0, 0, 1, 1, 0, 0, 0, 0, 1, 1, 1, 1, 1, 0, 1, 0, 0, 0, 1, 1, 0, 0, 1, 0, 0, 0, 1, 0, 1, 1, 0, 0, 1, 0, 0, 0, 0, 0, 0, 1, 0, 0, 1, 0, 1, 0, 1, 0, 0, 1, 0, 0, 1, 1, 0, 0, 1, 1, 0, 0, 0, 1, 0, 0, 1, 1, 0, 1, 0, 0, 0, 0, 0, 0, 0, 0, 1, 0, 0, 1, 0, 1, 1, 1, 0, 0, 0, 0, 1, 0, 1, 0, 0, 0, 0, 0, 0, 0, 1, 1, 0, 0, 0, 1, 1, 1, 1, 0, 0, 0, 0, 1, 0, 0, 0, 0, 0, 0, 0, 0, 0, 0, 1, 1, 0, 1, 0, 0, 0, 1, 1, 1, 1, 1, 0, 0, 0, 1, 0, 0, 1, 1, 0, 0, 1, 0, 0, 0, 0, 0, 0, 1, 0, 0, 0, 1, 0, 1, 1, 1, 1, 0, 0, 0, 1, 0, 0, 1, 1, 0, 0, 1, 0, 1, 0, 0, 1, 1, 0, 0, 0, 1, 1, 0, 0, 0, 0, 0, 0, 1, 0, 1, 0], \"coloraxis\": \"coloraxis\"}, \"name\": \"\", \"type\": \"parcats\"}],\n",
              "                        {\"coloraxis\": {\"colorbar\": {\"title\": {\"text\": \"Survived\"}}, \"colorscale\": [[0.0, \"rgb(252, 222, 156)\"], [0.16666666666666666, \"rgb(250, 164, 118)\"], [0.3333333333333333, \"rgb(240, 116, 110)\"], [0.5, \"rgb(227, 79, 111)\"], [0.6666666666666666, \"rgb(220, 57, 119)\"], [0.8333333333333334, \"rgb(185, 37, 122)\"], [1.0, \"rgb(124, 29, 111)\"]]}, \"legend\": {\"tracegroupgap\": 0}, \"margin\": {\"t\": 60}, \"template\": {\"data\": {\"bar\": [{\"error_x\": {\"color\": \"#2a3f5f\"}, \"error_y\": {\"color\": \"#2a3f5f\"}, \"marker\": {\"line\": {\"color\": \"#E5ECF6\", \"width\": 0.5}}, \"type\": \"bar\"}], \"barpolar\": [{\"marker\": {\"line\": {\"color\": \"#E5ECF6\", \"width\": 0.5}}, \"type\": \"barpolar\"}], \"carpet\": [{\"aaxis\": {\"endlinecolor\": \"#2a3f5f\", \"gridcolor\": \"white\", \"linecolor\": \"white\", \"minorgridcolor\": \"white\", \"startlinecolor\": \"#2a3f5f\"}, \"baxis\": {\"endlinecolor\": \"#2a3f5f\", \"gridcolor\": \"white\", \"linecolor\": \"white\", \"minorgridcolor\": \"white\", \"startlinecolor\": \"#2a3f5f\"}, \"type\": \"carpet\"}], \"choropleth\": [{\"colorbar\": {\"outlinewidth\": 0, \"ticks\": \"\"}, \"type\": \"choropleth\"}], \"contour\": [{\"colorbar\": {\"outlinewidth\": 0, \"ticks\": \"\"}, \"colorscale\": [[0.0, \"#0d0887\"], [0.1111111111111111, \"#46039f\"], [0.2222222222222222, \"#7201a8\"], [0.3333333333333333, \"#9c179e\"], [0.4444444444444444, \"#bd3786\"], [0.5555555555555556, \"#d8576b\"], [0.6666666666666666, \"#ed7953\"], [0.7777777777777778, \"#fb9f3a\"], [0.8888888888888888, \"#fdca26\"], [1.0, \"#f0f921\"]], \"type\": \"contour\"}], \"contourcarpet\": [{\"colorbar\": {\"outlinewidth\": 0, \"ticks\": \"\"}, \"type\": \"contourcarpet\"}], \"heatmap\": [{\"colorbar\": {\"outlinewidth\": 0, \"ticks\": \"\"}, \"colorscale\": [[0.0, \"#0d0887\"], [0.1111111111111111, \"#46039f\"], [0.2222222222222222, \"#7201a8\"], [0.3333333333333333, \"#9c179e\"], [0.4444444444444444, \"#bd3786\"], [0.5555555555555556, \"#d8576b\"], [0.6666666666666666, \"#ed7953\"], [0.7777777777777778, \"#fb9f3a\"], [0.8888888888888888, \"#fdca26\"], [1.0, \"#f0f921\"]], \"type\": \"heatmap\"}], \"heatmapgl\": [{\"colorbar\": {\"outlinewidth\": 0, \"ticks\": \"\"}, \"colorscale\": [[0.0, \"#0d0887\"], [0.1111111111111111, \"#46039f\"], [0.2222222222222222, \"#7201a8\"], [0.3333333333333333, \"#9c179e\"], [0.4444444444444444, \"#bd3786\"], [0.5555555555555556, \"#d8576b\"], [0.6666666666666666, \"#ed7953\"], [0.7777777777777778, \"#fb9f3a\"], [0.8888888888888888, \"#fdca26\"], [1.0, \"#f0f921\"]], \"type\": \"heatmapgl\"}], \"histogram\": [{\"marker\": {\"colorbar\": {\"outlinewidth\": 0, \"ticks\": \"\"}}, \"type\": \"histogram\"}], \"histogram2d\": [{\"colorbar\": {\"outlinewidth\": 0, \"ticks\": \"\"}, \"colorscale\": [[0.0, \"#0d0887\"], [0.1111111111111111, \"#46039f\"], [0.2222222222222222, \"#7201a8\"], [0.3333333333333333, \"#9c179e\"], [0.4444444444444444, \"#bd3786\"], [0.5555555555555556, \"#d8576b\"], [0.6666666666666666, \"#ed7953\"], [0.7777777777777778, \"#fb9f3a\"], [0.8888888888888888, \"#fdca26\"], [1.0, \"#f0f921\"]], \"type\": \"histogram2d\"}], \"histogram2dcontour\": [{\"colorbar\": {\"outlinewidth\": 0, \"ticks\": \"\"}, \"colorscale\": [[0.0, \"#0d0887\"], [0.1111111111111111, \"#46039f\"], [0.2222222222222222, \"#7201a8\"], [0.3333333333333333, \"#9c179e\"], [0.4444444444444444, \"#bd3786\"], [0.5555555555555556, \"#d8576b\"], [0.6666666666666666, \"#ed7953\"], [0.7777777777777778, \"#fb9f3a\"], [0.8888888888888888, \"#fdca26\"], [1.0, \"#f0f921\"]], \"type\": \"histogram2dcontour\"}], \"mesh3d\": [{\"colorbar\": {\"outlinewidth\": 0, \"ticks\": \"\"}, \"type\": \"mesh3d\"}], \"parcoords\": [{\"line\": {\"colorbar\": {\"outlinewidth\": 0, \"ticks\": \"\"}}, \"type\": \"parcoords\"}], \"pie\": [{\"automargin\": true, \"type\": \"pie\"}], \"scatter\": [{\"marker\": {\"colorbar\": {\"outlinewidth\": 0, \"ticks\": \"\"}}, \"type\": \"scatter\"}], \"scatter3d\": [{\"line\": {\"colorbar\": {\"outlinewidth\": 0, \"ticks\": \"\"}}, \"marker\": {\"colorbar\": {\"outlinewidth\": 0, \"ticks\": \"\"}}, \"type\": \"scatter3d\"}], \"scattercarpet\": [{\"marker\": {\"colorbar\": {\"outlinewidth\": 0, \"ticks\": \"\"}}, \"type\": \"scattercarpet\"}], \"scattergeo\": [{\"marker\": {\"colorbar\": {\"outlinewidth\": 0, \"ticks\": \"\"}}, \"type\": \"scattergeo\"}], \"scattergl\": [{\"marker\": {\"colorbar\": {\"outlinewidth\": 0, \"ticks\": \"\"}}, \"type\": \"scattergl\"}], \"scattermapbox\": [{\"marker\": {\"colorbar\": {\"outlinewidth\": 0, \"ticks\": \"\"}}, \"type\": \"scattermapbox\"}], \"scatterpolar\": [{\"marker\": {\"colorbar\": {\"outlinewidth\": 0, \"ticks\": \"\"}}, \"type\": \"scatterpolar\"}], \"scatterpolargl\": [{\"marker\": {\"colorbar\": {\"outlinewidth\": 0, \"ticks\": \"\"}}, \"type\": \"scatterpolargl\"}], \"scatterternary\": [{\"marker\": {\"colorbar\": {\"outlinewidth\": 0, \"ticks\": \"\"}}, \"type\": \"scatterternary\"}], \"surface\": [{\"colorbar\": {\"outlinewidth\": 0, \"ticks\": \"\"}, \"colorscale\": [[0.0, \"#0d0887\"], [0.1111111111111111, \"#46039f\"], [0.2222222222222222, \"#7201a8\"], [0.3333333333333333, \"#9c179e\"], [0.4444444444444444, \"#bd3786\"], [0.5555555555555556, \"#d8576b\"], [0.6666666666666666, \"#ed7953\"], [0.7777777777777778, \"#fb9f3a\"], [0.8888888888888888, \"#fdca26\"], [1.0, \"#f0f921\"]], \"type\": \"surface\"}], \"table\": [{\"cells\": {\"fill\": {\"color\": \"#EBF0F8\"}, \"line\": {\"color\": \"white\"}}, \"header\": {\"fill\": {\"color\": \"#C8D4E3\"}, \"line\": {\"color\": \"white\"}}, \"type\": \"table\"}]}, \"layout\": {\"annotationdefaults\": {\"arrowcolor\": \"#2a3f5f\", \"arrowhead\": 0, \"arrowwidth\": 1}, \"coloraxis\": {\"colorbar\": {\"outlinewidth\": 0, \"ticks\": \"\"}}, \"colorscale\": {\"diverging\": [[0, \"#8e0152\"], [0.1, \"#c51b7d\"], [0.2, \"#de77ae\"], [0.3, \"#f1b6da\"], [0.4, \"#fde0ef\"], [0.5, \"#f7f7f7\"], [0.6, \"#e6f5d0\"], [0.7, \"#b8e186\"], [0.8, \"#7fbc41\"], [0.9, \"#4d9221\"], [1, \"#276419\"]], \"sequential\": [[0.0, \"#0d0887\"], [0.1111111111111111, \"#46039f\"], [0.2222222222222222, \"#7201a8\"], [0.3333333333333333, \"#9c179e\"], [0.4444444444444444, \"#bd3786\"], [0.5555555555555556, \"#d8576b\"], [0.6666666666666666, \"#ed7953\"], [0.7777777777777778, \"#fb9f3a\"], [0.8888888888888888, \"#fdca26\"], [1.0, \"#f0f921\"]], \"sequentialminus\": [[0.0, \"#0d0887\"], [0.1111111111111111, \"#46039f\"], [0.2222222222222222, \"#7201a8\"], [0.3333333333333333, \"#9c179e\"], [0.4444444444444444, \"#bd3786\"], [0.5555555555555556, \"#d8576b\"], [0.6666666666666666, \"#ed7953\"], [0.7777777777777778, \"#fb9f3a\"], [0.8888888888888888, \"#fdca26\"], [1.0, \"#f0f921\"]]}, \"colorway\": [\"#636efa\", \"#EF553B\", \"#00cc96\", \"#ab63fa\", \"#FFA15A\", \"#19d3f3\", \"#FF6692\", \"#B6E880\", \"#FF97FF\", \"#FECB52\"], \"font\": {\"color\": \"#2a3f5f\"}, \"geo\": {\"bgcolor\": \"white\", \"lakecolor\": \"white\", \"landcolor\": \"#E5ECF6\", \"showlakes\": true, \"showland\": true, \"subunitcolor\": \"white\"}, \"hoverlabel\": {\"align\": \"left\"}, \"hovermode\": \"closest\", \"mapbox\": {\"style\": \"light\"}, \"paper_bgcolor\": \"white\", \"plot_bgcolor\": \"#E5ECF6\", \"polar\": {\"angularaxis\": {\"gridcolor\": \"white\", \"linecolor\": \"white\", \"ticks\": \"\"}, \"bgcolor\": \"#E5ECF6\", \"radialaxis\": {\"gridcolor\": \"white\", \"linecolor\": \"white\", \"ticks\": \"\"}}, \"scene\": {\"xaxis\": {\"backgroundcolor\": \"#E5ECF6\", \"gridcolor\": \"white\", \"gridwidth\": 2, \"linecolor\": \"white\", \"showbackground\": true, \"ticks\": \"\", \"zerolinecolor\": \"white\"}, \"yaxis\": {\"backgroundcolor\": \"#E5ECF6\", \"gridcolor\": \"white\", \"gridwidth\": 2, \"linecolor\": \"white\", \"showbackground\": true, \"ticks\": \"\", \"zerolinecolor\": \"white\"}, \"zaxis\": {\"backgroundcolor\": \"#E5ECF6\", \"gridcolor\": \"white\", \"gridwidth\": 2, \"linecolor\": \"white\", \"showbackground\": true, \"ticks\": \"\", \"zerolinecolor\": \"white\"}}, \"shapedefaults\": {\"line\": {\"color\": \"#2a3f5f\"}}, \"ternary\": {\"aaxis\": {\"gridcolor\": \"white\", \"linecolor\": \"white\", \"ticks\": \"\"}, \"baxis\": {\"gridcolor\": \"white\", \"linecolor\": \"white\", \"ticks\": \"\"}, \"bgcolor\": \"#E5ECF6\", \"caxis\": {\"gridcolor\": \"white\", \"linecolor\": \"white\", \"ticks\": \"\"}}, \"title\": {\"x\": 0.05}, \"xaxis\": {\"automargin\": true, \"gridcolor\": \"white\", \"linecolor\": \"white\", \"ticks\": \"\", \"title\": {\"standoff\": 15}, \"zerolinecolor\": \"white\", \"zerolinewidth\": 2}, \"yaxis\": {\"automargin\": true, \"gridcolor\": \"white\", \"linecolor\": \"white\", \"ticks\": \"\", \"title\": {\"standoff\": 15}, \"zerolinecolor\": \"white\", \"zerolinewidth\": 2}}}},\n",
              "                        {\"responsive\": true}\n",
              "                    ).then(function(){\n",
              "                            \n",
              "var gd = document.getElementById('54f8e710-4c6f-48b5-a717-fed2c84e6d1e');\n",
              "var x = new MutationObserver(function (mutations, observer) {{\n",
              "        var display = window.getComputedStyle(gd).display;\n",
              "        if (!display || display === 'none') {{\n",
              "            console.log([gd, 'removed!']);\n",
              "            Plotly.purge(gd);\n",
              "            observer.disconnect();\n",
              "        }}\n",
              "}});\n",
              "\n",
              "// Listen for the removal of the full notebook cells\n",
              "var notebookContainer = gd.closest('#notebook-container');\n",
              "if (notebookContainer) {{\n",
              "    x.observe(notebookContainer, {childList: true});\n",
              "}}\n",
              "\n",
              "// Listen for the clearing of the current output cell\n",
              "var outputEl = gd.closest('.output');\n",
              "if (outputEl) {{\n",
              "    x.observe(outputEl, {childList: true});\n",
              "}}\n",
              "\n",
              "                        })\n",
              "                };\n",
              "                \n",
              "            </script>\n",
              "        </div>\n",
              "</body>\n",
              "</html>"
            ]
          },
          "metadata": {
            "tags": []
          }
        }
      ]
    },
    {
      "cell_type": "markdown",
      "metadata": {
        "id": "7KdOLIcebRVT",
        "colab_type": "text"
      },
      "source": [
        "O gráfico anterior ajuda na visualização de dados categóricos, através do fluxo que existe entre eles, paralelizando as suas relações.\n",
        "\n",
        "No próximo gráfico, vamos analisar quais as categorias mais sobreviveram ao naufrágio."
      ]
    },
    {
      "cell_type": "code",
      "metadata": {
        "id": "nH9W8lXobTG-",
        "colab_type": "code",
        "outputId": "225881f4-3f61-4c8c-80b3-0862668dcb0a",
        "colab": {
          "base_uri": "https://localhost:8080/",
          "height": 329
        }
      },
      "source": [
        "base_treino.pivot_table(index=\"Age_categories\",values='Survived').plot.bar()\n",
        "plt.show()"
      ],
      "execution_count": 65,
      "outputs": [
        {
          "output_type": "display_data",
          "data": {
            "image/png": "[encoded data removed]",
            "text/plain": [
              "<Figure size 432x288 with 1 Axes>"
            ]
          },
          "metadata": {
            "tags": [],
            "needs_background": "light"
          }
        }
      ]
    },
    {
      "cell_type": "markdown",
      "metadata": {
        "id": "YV3dRWnlbWbj",
        "colab_type": "text"
      },
      "source": [
        "A narrativa que sabemos existir: \"Mulheres e crianças primeiro\", passa a fazer algum sentido quando verificamos que a maior proporção que veio a sobreviver esta sendo categorizado como \"Infant\" que compreende o intervalo entre 0 a 5 anos.\n",
        "\n",
        "Vale a pena verificarmos se existe alguma relação entre sobreviventes e outras variáveis.\n",
        "\n",
        "Vamos explorar a variável <strong>Ticket</strong>."
      ]
    },
    {
      "cell_type": "code",
      "metadata": {
        "id": "gPcZdHnAbYWp",
        "colab_type": "code",
        "outputId": "fb0e5bf7-c4e7-405f-a598-0fe019ed5e9e",
        "colab": {
          "base_uri": "https://localhost:8080/",
          "height": 51
        }
      },
      "source": [
        "base_treino['Ticket_'] = base_treino['Ticket'].apply(lambda x: str(x)[0])\n",
        "base_treino['Ticket_'].unique()"
      ],
      "execution_count": 66,
      "outputs": [
        {
          "output_type": "execute_result",
          "data": {
            "text/plain": [
              "array(['A', 'P', 'S', '1', '3', '2', 'C', '7', 'W', '4', 'F', 'L', '9',\n",
              "       '6', '5', '8'], dtype=object)"
            ]
          },
          "metadata": {
            "tags": []
          },
          "execution_count": 66
        }
      ]
    },
    {
      "cell_type": "code",
      "metadata": {
        "id": "z5WDD3gYbZwX",
        "colab_type": "code",
        "outputId": "7e8e1964-576f-4569-889a-beea1a71b358",
        "colab": {
          "base_uri": "https://localhost:8080/",
          "height": 204
        }
      },
      "source": [
        "base_treino['Ticket_'] = np.where((base_treino['Ticket_']).isin(['1', '2', '3', 'S', 'P', 'C', 'A']), base_treino['Ticket_'],\n",
        "                          np.where((base_treino['Ticket_']).isin(['W', '4', '7', '6', 'L', '5', '8']),\n",
        "                                   'Tickets_baratos', 'Outros_tickets'))\n",
        "\n",
        "base_treino.groupby(['Ticket_'])['Survived'].mean().sort_values()"
      ],
      "execution_count": 67,
      "outputs": [
        {
          "output_type": "execute_result",
          "data": {
            "text/plain": [
              "Ticket_\n",
              "A                  0.068966\n",
              "Tickets_baratos    0.148936\n",
              "3                  0.239203\n",
              "S                  0.323077\n",
              "C                  0.340426\n",
              "2                  0.464481\n",
              "Outros_tickets     0.625000\n",
              "1                  0.630137\n",
              "P                  0.646154\n",
              "Name: Survived, dtype: float64"
            ]
          },
          "metadata": {
            "tags": []
          },
          "execution_count": 67
        }
      ]
    },
    {
      "cell_type": "markdown",
      "metadata": {
        "id": "KwjOsGNpbd19",
        "colab_type": "text"
      },
      "source": [
        "Existe uma alta porcentagem de sobreviventes quando criamos esse meio de classificação através do ticket.\n",
        "\n",
        "Faremos a mesma coisa com a variável \"Name\" e vamos observar se conseguimos extrair algo."
      ]
    },
    {
      "cell_type": "code",
      "metadata": {
        "id": "b_IOHDI4bj0r",
        "colab_type": "code",
        "outputId": "f6bfa1f5-c050-464d-c945-6c7bb543f340",
        "colab": {
          "base_uri": "https://localhost:8080/",
          "height": 408
        }
      },
      "source": [
        "base_treino['Name_Len'] = base_treino['Name'].apply(lambda x: len(x))\n",
        "print('-----------------------------')\n",
        "print('-----------------------------')\n",
        "print('Quantidade de pessoas por intervalos')\n",
        "print('-----------------------------')\n",
        "print(pd.qcut(base_treino['Name_Len'],5).value_counts())\n",
        "print('-----------------------------')\n",
        "print('-----------------------------')\n",
        "print('Porcentagem de sobreviventes em relação ao tamanho do nome')\n",
        "print('-----------------------------')\n",
        "print(base_treino['Survived'].groupby(pd.qcut(base_treino['Name_Len'],5)).mean())\n",
        "print('-----------------------------')\n",
        "print('-----------------------------')"
      ],
      "execution_count": 68,
      "outputs": [
        {
          "output_type": "stream",
          "text": [
            "-----------------------------\n",
            "-----------------------------\n",
            "Quantidade de pessoas por intervalos\n",
            "-----------------------------\n",
            "(11.999, 19.0]    204\n",
            "(23.0, 27.0]      197\n",
            "(32.0, 82.0]      169\n",
            "(27.0, 32.0]      165\n",
            "(19.0, 23.0]      156\n",
            "Name: Name_Len, dtype: int64\n",
            "-----------------------------\n",
            "-----------------------------\n",
            "Porcentagem de sobreviventes em relação ao tamanho do nome\n",
            "-----------------------------\n",
            "Name_Len\n",
            "(11.999, 19.0]    0.220588\n",
            "(19.0, 23.0]      0.301282\n",
            "(23.0, 27.0]      0.319797\n",
            "(27.0, 32.0]      0.442424\n",
            "(32.0, 82.0]      0.674556\n",
            "Name: Survived, dtype: float64\n",
            "-----------------------------\n",
            "-----------------------------\n"
          ],
          "name": "stdout"
        }
      ]
    },
    {
      "cell_type": "markdown",
      "metadata": {
        "id": "xeAl_DNtbwQw",
        "colab_type": "text"
      },
      "source": [
        "Mais um passo alcançado, vamos explorar novas variáveis.\n",
        "\n",
        "Vamos explorar um pouco mais a variável <strong>Name</strong>, pois ela possui dados relevantes, como a titularidade e nome da família do passageiro."
      ]
    },
    {
      "cell_type": "code",
      "metadata": {
        "id": "Bi0RPkGAbygi",
        "colab_type": "code",
        "outputId": "17abbe5b-57c9-436f-ff67-670763126bde",
        "colab": {
          "base_uri": "https://localhost:8080/",
          "height": 221
        }
      },
      "source": [
        "base_treino[\"Name\"]"
      ],
      "execution_count": 69,
      "outputs": [
        {
          "output_type": "execute_result",
          "data": {
            "text/plain": [
              "0                                Braund, Mr. Owen Harris\n",
              "1      Cumings, Mrs. John Bradley (Florence Briggs Th...\n",
              "2                                 Heikkinen, Miss. Laina\n",
              "3           Futrelle, Mrs. Jacques Heath (Lily May Peel)\n",
              "4                               Allen, Mr. William Henry\n",
              "                             ...                        \n",
              "886                                Montvila, Rev. Juozas\n",
              "887                         Graham, Miss. Margaret Edith\n",
              "888             Johnston, Miss. Catherine Helen \"Carrie\"\n",
              "889                                Behr, Mr. Karl Howell\n",
              "890                                  Dooley, Mr. Patrick\n",
              "Name: Name, Length: 891, dtype: object"
            ]
          },
          "metadata": {
            "tags": []
          },
          "execution_count": 69
        }
      ]
    },
    {
      "cell_type": "markdown",
      "metadata": {
        "id": "OdFYFSIyb1CY",
        "colab_type": "text"
      },
      "source": [
        "- **Extraindo Titularidade**"
      ]
    },
    {
      "cell_type": "code",
      "metadata": {
        "id": "TmnYA9glb1Xs",
        "colab_type": "code",
        "outputId": "db9ab188-21c1-482a-cc7a-b7faa325bfec",
        "colab": {
          "base_uri": "https://localhost:8080/",
          "height": 68
        }
      },
      "source": [
        "base_treino[\"Name\"].str.extract(' ([A-Za-z]+)\\.',expand=False).unique()"
      ],
      "execution_count": 70,
      "outputs": [
        {
          "output_type": "execute_result",
          "data": {
            "text/plain": [
              "array(['Mr', 'Mrs', 'Miss', 'Master', 'Don', 'Rev', 'Dr', 'Mme', 'Ms',\n",
              "       'Major', 'Lady', 'Sir', 'Mlle', 'Col', 'Capt', 'Countess',\n",
              "       'Jonkheer'], dtype=object)"
            ]
          },
          "metadata": {
            "tags": []
          },
          "execution_count": 70
        }
      ]
    },
    {
      "cell_type": "markdown",
      "metadata": {
        "id": "yhTiLglYb5kb",
        "colab_type": "text"
      },
      "source": [
        "Podemos então fazer uma nova classificação através da titularidade. Vamos armazenar o resultado em um objeto que será utilizado mais adianta para fazer uma nova classificação de gênero."
      ]
    },
    {
      "cell_type": "code",
      "metadata": {
        "id": "thrFMz9Eb6HZ",
        "colab_type": "code",
        "colab": {}
      },
      "source": [
        "titulos = {\n",
        "    \"Mr\" :         \"man\",\n",
        "    \"Mme\":         \"woman\",\n",
        "    \"Ms\":          \"woman\",\n",
        "    \"Mrs\" :        \"woman\",\n",
        "    \"Master\" :     \"aged\",\n",
        "    \"Mlle\":        \"woman\",\n",
        "    \"Miss\" :       \"woman\",\n",
        "    \"Capt\":        \"man\",\n",
        "    \"Col\":         \"man\",\n",
        "    \"Major\":       \"man\",\n",
        "    \"Dr\":          \"man\",\n",
        "    \"Rev\":         \"man\",\n",
        "    \"Jonkheer\":    \"man\",\n",
        "    \"Don\":         \"man\",\n",
        "    \"Sir\" :        \"man\",\n",
        "    \"Countess\":    \"woman\",\n",
        "    \"Lady\" :       \"woman\"\n",
        "}"
      ],
      "execution_count": 0,
      "outputs": []
    },
    {
      "cell_type": "markdown",
      "metadata": {
        "id": "DmIGTpvrb95p",
        "colab_type": "text"
      },
      "source": [
        "- **Extraindo Família**"
      ]
    },
    {
      "cell_type": "code",
      "metadata": {
        "id": "5Pi-5PCccAj8",
        "colab_type": "code",
        "outputId": "ab840f54-e983-4685-8208-a2079bfbee19",
        "colab": {
          "base_uri": "https://localhost:8080/",
          "height": 1000
        }
      },
      "source": [
        "base_treino[\"Name\"].str.extract('([A-Za-z]+)\\,',expand=False).unique()"
      ],
      "execution_count": 72,
      "outputs": [
        {
          "output_type": "execute_result",
          "data": {
            "text/plain": [
              "array(['Braund', 'Cumings', 'Heikkinen', 'Futrelle', 'Allen', 'Moran',\n",
              "       'McCarthy', 'Palsson', 'Johnson', 'Nasser', 'Sandstrom', 'Bonnell',\n",
              "       'Saundercock', 'Andersson', 'Vestrom', 'Hewlett', 'Rice',\n",
              "       'Williams', 'Planke', 'Masselmani', 'Fynney', 'Beesley', 'McGowan',\n",
              "       'Sloper', 'Asplund', 'Emir', 'Fortune', 'Dwyer', 'Todoroff',\n",
              "       'Uruchurtu', 'Spencer', 'Glynn', 'Wheadon', 'Meyer', 'Holverson',\n",
              "       'Mamee', 'Cann', 'Yarred', 'Ahlin', 'Turpin', 'Kraeff', 'Laroche',\n",
              "       'Devaney', 'Rogers', 'Lennon', 'Driscoll', 'Samaan', 'Franchi',\n",
              "       'Panula', 'Nosworthy', 'Harper', 'Faunthorpe', 'Ostby', 'Woolner',\n",
              "       'Rugg', 'Novel', 'West', 'Goodwin', 'Sirayanian', 'Icard',\n",
              "       'Harris', 'Skoog', 'Stewart', 'Moubarek', 'Nye', 'Crease', 'Kink',\n",
              "       'Jenkin', 'Hood', 'Chronopoulos', 'Bing', 'Moen', 'Staneff',\n",
              "       'Moutal', 'Caldwell', 'Dowdell', 'Waelens', 'Sheerlinck',\n",
              "       'McDermott', 'Carrau', 'Ilett', 'Backstrom', 'Ford', 'Slocovski',\n",
              "       'Celotti', 'Christmann', 'Andreasson', 'Chaffee', 'Dean', 'Coxon',\n",
              "       'Shorney', 'Goldschmidt', 'Greenfield', 'Doling', 'Kantor',\n",
              "       'Petranec', 'Petroff', 'White', 'Johansson', 'Gustafsson',\n",
              "       'Mionoff', 'Salkjelsvik', 'Moss', 'Rekic', 'Porter', 'Zabour',\n",
              "       'Barton', 'Jussila', 'Attalah', 'Pekoniemi', 'Connors', 'Baxter',\n",
              "       'Hickman', 'Moore', 'Webber', 'McMahon', 'Madsen', 'Peter',\n",
              "       'Ekstrom', 'Drazenoic', 'Coelho', 'Robins', 'Weisz', 'Sobey',\n",
              "       'Richard', 'Newsom', 'Osen', 'Giglio', 'Boulos', 'Nysten',\n",
              "       'Hakkarainen', 'Burke', 'Andrew', 'Nicholls', 'Navratil', 'Byles',\n",
              "       'Bateman', 'Pears', 'Meo', 'Billiard', 'Olsen', 'Gilnagh', 'Corn',\n",
              "       'Smiljanic', 'Sage', 'Cribb', 'Watt', 'Bengtsson', 'Calic',\n",
              "       'Goldsmith', 'Chibnall', 'Baumann', 'Ling', 'hoef', 'Sivola',\n",
              "       'Smith', 'Klasen', 'Lefebre', 'Isham', 'Hale', 'Leonard', 'Pernot',\n",
              "       'Becker', 'Heilmann', 'Rood', 'Brien', 'Romaine', 'Bourke',\n",
              "       'Turcin', 'Pinsky', 'Carbines', 'Jensen', 'Brown', 'Lurette',\n",
              "       'Mernagh', 'Madigan', 'Yrois', 'Walle', 'Johanson', 'Youseff',\n",
              "       'Cohen', 'Strom', 'Albimona', 'Carr', 'Blank', 'Ali', 'Cameron',\n",
              "       'Perkin', 'Givard', 'Kiernan', 'Newell', 'Honkanen', 'Jacobsohn',\n",
              "       'Bazzani', 'Sunderland', 'Bracken', 'Green', 'Nenkoff', 'Hoyt',\n",
              "       'Berglund', 'Mellors', 'Lovell', 'Fahlstrom', 'Larsson',\n",
              "       'Sjostedt', 'Leyson', 'Harknett', 'Hold', 'Collyer', 'Pengelly',\n",
              "       'Hunt', 'Murphy', 'Coleridge', 'Maenpaa', 'Minahan', 'Lindahl',\n",
              "       'Hamalainen', 'Beckwith', 'Carter', 'Reed', 'Stead', 'Lobb',\n",
              "       'Rosblom', 'Touma', 'Thorne', 'Cherry', 'Ward', 'Parrish',\n",
              "       'Taussig', 'Harrison', 'Henry', 'Reeves', 'Persson', 'Graham',\n",
              "       'Bissette', 'Cairns', 'Tornquist', 'Mellinger', 'Natsch', 'Healy',\n",
              "       'Andrews', 'Lindblom', 'Parkes', 'Abbott', 'Duane', 'Olsson',\n",
              "       'Pelsmaeker', 'Dorking', 'Stankovic', 'Mulder', 'Naidenoff',\n",
              "       'Hosono', 'Connolly', 'Barber', 'Bishop', 'Levy', 'Haas', 'Mineff',\n",
              "       'Lewy', 'Hanna', 'Allison', 'Saalfeld', 'Kelly', 'McCoy', 'Keane',\n",
              "       'Fleming', 'Castellana', 'Abelson', 'Francatelli', 'Hays',\n",
              "       'Ryerson', 'Lahtinen', 'Hendekovic', 'Hart', 'Nilsson', 'Moraweck',\n",
              "       'Wick', 'Spedden', 'Dennis', 'Danoff', 'Slayter', 'Young',\n",
              "       'Nysveen', 'Ball', 'Hippach', 'Partner', 'Frauenthal', 'Denkoff',\n",
              "       'Burns', 'Dahl', 'Blackwell', 'Collander', 'Sedgwick', 'Fox',\n",
              "       'Davison', 'Coutts', 'Dimic', 'Odahl', 'Lambert', 'Elias',\n",
              "       'Yousif', 'Steen', 'Bowerman', 'Funk', 'McGovern', 'Mockler',\n",
              "       'Carlo', 'Barbara', 'Asim', 'Adahl', 'Warren', 'Moussa', 'Jermyn',\n",
              "       'Aubart', 'Harder', 'Wiklund', 'Beavan', 'Ringhini', 'Landergren',\n",
              "       'Widener', 'Betros', 'Bidois', 'Nakid', 'Tikkanen', 'Plotcharsky',\n",
              "       'Davies', 'Buss', 'Sadlier', 'Lehmann', 'Jansson', 'McKane',\n",
              "       'Pain', 'Trout', 'Niskanen', 'Adams', 'Oreskovic', 'Gale',\n",
              "       'Widegren', 'Richards', 'Birkeland', 'Sdycoff', 'Cunningham',\n",
              "       'Sundman', 'Meek', 'Drew', 'Silven', 'Matthews', 'Impe',\n",
              "       'Gheorgheff', 'Charters', 'Zimmerman', 'Danbom', 'Wiseman',\n",
              "       'Clarke', 'Phillips', 'Flynn', 'Pickard', 'Steffansson',\n",
              "       'Thorneycroft', 'Louch', 'Kallio', 'Silvey', 'Kvillner', 'Hampe',\n",
              "       'Petterson', 'Reynaldo', 'Bratthammer', 'Dodge', 'Seward',\n",
              "       'Baclini', 'Peuchen', 'Hagland', 'Foreman', 'Goldenberg',\n",
              "       'Peduzzi', 'Jalsevac', 'Millet', 'Kenyon', 'Toomey', 'Connor',\n",
              "       'Anderson', 'Morley', 'Gee', 'Milling', 'Maisner', 'Goncalves',\n",
              "       'Campbell', 'Smart', 'Scanlan', 'Keefe', 'Cacic', 'Jerwan',\n",
              "       'Strandberg', 'Clifford', 'Renouf', 'Karlsson', 'Hirvonen',\n",
              "       'Frost', 'Rouse', 'Turkula', 'Kent', 'Somerton', 'Windelov',\n",
              "       'Molson', 'Artagaveytia', 'Stanley', 'Yousseff', 'Eustis',\n",
              "       'Shellard', 'Svensson', 'Canavan', 'Sullivan', 'Laitinen',\n",
              "       'Maioni', 'Quick', 'Bradley', 'Lang', 'Daly', 'McGough',\n",
              "       'Rothschild', 'Coleff', 'Walker', 'Lemore', 'Ryan', 'Angle',\n",
              "       'Pavlovic', 'Perreault', 'Vovk', 'Lahoud', 'Kassem', 'Farrell',\n",
              "       'Ridsdale', 'Farthing', 'Salonen', 'Hocking', 'Toufik', 'Butt',\n",
              "       'LeRoy', 'Risien', 'Frolicher', 'Crosby', 'Beane', 'Douglas',\n",
              "       'Nicholson', 'Manent', 'Thayer', 'Sharp', 'Leeni', 'Ohman',\n",
              "       'Wright', 'Gordon', 'Robbins', 'Messemaeker', 'Morrow', 'Sivic',\n",
              "       'Norman', 'Simmons', 'Meanwell', 'Stoytcheff', 'Doharr', 'Jonsson',\n",
              "       'Appleton', 'Rush', 'Patchett', 'Garside', 'Caram', 'Christy',\n",
              "       'Downton', 'Ross', 'Paulner', 'Jarvis', 'Stehli', 'Gilinski',\n",
              "       'Murdlin', 'Rintamaki', 'Stephenson', 'Elsbury', 'Chapman',\n",
              "       'Leitch', 'Slabenoff', 'Harrington', 'Torber', 'Homer', 'Lindell',\n",
              "       'Karaic', 'Daniel', 'Shutes', 'Jardin', 'Horgan', 'Brocklebank',\n",
              "       'Herman', 'Gavey', 'Yasbeck', 'Kimball', 'Hansen', 'Bowen',\n",
              "       'Sutton', 'Kirkland', 'Longley', 'Bostandyeff', 'Connell',\n",
              "       'Barkworth', 'Lundahl', 'Maeglin', 'Parr', 'Davis', 'Leinonen',\n",
              "       'Sagesser', 'Foo', 'Cor', 'Blumer', 'Willey', 'Mitkoff', 'Kalvik',\n",
              "       'Leary', 'Hegarty', 'Radeff', 'Eitemiller', 'Badt', 'Colley',\n",
              "       'Lindqvist', 'Butler', 'Rommetvedt', 'Cook', 'Taylor', 'Davidson',\n",
              "       'Mitchell', 'Wilhelms', 'Watson', 'Edvardsson', 'Sawyer', 'Turja',\n",
              "       'Cardeza', 'Peters', 'Hassab', 'Olsvigen', 'Dakic', 'Fischer',\n",
              "       'Madill', 'Dick', 'Karun', 'Lam', 'Saad', 'Weir', 'Mullens',\n",
              "       'Humblen', 'Astor', 'Silverthorne', 'Gallagher', 'Calderhead',\n",
              "       'Cleaver', 'Mayne', 'Klaber', 'Greenberg', 'Soholt', 'Endres',\n",
              "       'Troutt', 'McEvoy', 'Gillespie', 'Hodges', 'Chambers', 'Mannion',\n",
              "       'Bryhl', 'Ilmakangas', 'Hassan', 'Knight', 'Berriman',\n",
              "       'Troupiansky', 'Lesurer', 'Ivanoff', 'Nankoff', 'Hawksford',\n",
              "       'Cavendish', 'McNamee', 'Stranden', 'Sinkkonen', 'Marvin',\n",
              "       'Connaghton', 'Wells', 'Moor', 'Velde', 'Jonkoff', 'Carlsson',\n",
              "       'Bailey', 'Theobald', 'Rothes', 'Garfirth', 'Nirva', 'Barah',\n",
              "       'Eklund', 'Hogeboom', 'Brewe', 'Mangan', 'Gronnestad', 'Lievens',\n",
              "       'Mack', 'Myhrman', 'Tobin', 'Emanuel', 'Kilgannon', 'Robert',\n",
              "       'Ayoub', 'Long', 'Johnston', 'Harmer', 'Sjoblom', 'Guggenheim',\n",
              "       'Gaskell', 'Dantcheff', 'Otter', 'Leader', 'Osman', 'Shawah',\n",
              "       'Ponesell', 'Thomas', 'Hedman', 'Pettersson', 'Alexander',\n",
              "       'Lester', 'Slemen', 'Tomlin', 'Fry', 'Heininen', 'Mallet', 'Holm',\n",
              "       'Lulic', 'Reuchlin', 'McCormack', 'Stone', 'Augustsson', 'Allum',\n",
              "       'Compton', 'Pasic', 'Sirota', 'Chip', 'Marechal', 'Alhomaki',\n",
              "       'Mudd', 'Serepeca', 'Lemberopolous', 'Culumovic', 'Abbing',\n",
              "       'Markoff', 'Lines', 'Aks', 'Razi', 'Giles', 'Swift', 'Gill',\n",
              "       'Bystrom', 'More', 'Roebling', 'Melkebeke', 'Balkic', 'Cruyssen',\n",
              "       'Najib', 'Laleff', 'Potter', 'Shelley', 'Markun', 'Dahlberg',\n",
              "       'Banfield', 'Sutehall', 'Montvila', 'Behr', 'Dooley'], dtype=object)"
            ]
          },
          "metadata": {
            "tags": []
          },
          "execution_count": 72
        }
      ]
    },
    {
      "cell_type": "code",
      "metadata": {
        "id": "BotgA8-0cGSr",
        "colab_type": "code",
        "colab": {}
      },
      "source": [
        "base_treino[\"Title\"] = base_treino[\"Name\"].str.extract(' ([A-Za-z]+)\\.',expand=False)\n",
        "base_treino[\"Gender\"] = base_treino[\"Title\"].map(titulos)\n",
        "base_treino[\"family\"] = base_treino[\"Name\"].str.extract('([A-Za-z]+)\\,',expand=False)\n",
        "boy_women = base_treino[base_treino[\"Gender\"] != \"man\"].groupby(by=[\"family\"])[\"Name\"].agg(\"count\")\n",
        "base_treino[\"family_size\"] = base_treino[\"family\"].map(boy_women).fillna(0.0)"
      ],
      "execution_count": 0,
      "outputs": []
    },
    {
      "cell_type": "markdown",
      "metadata": {
        "id": "SZcahRISjmgU",
        "colab_type": "text"
      },
      "source": [
        "Criamos mais algumas relações importantes, como títularidade do individuo, nome da família e tamanho da família, pois quando houve o desastre, a ordem era priorizar mulheres e crianças.\n",
        "\n",
        "Vamos analisar a variável <strong>Fare</strong>, pois deve existir alguma relação entre a taxa de sobrevivência entre os passageiros que pagaram mais caro, a esperança é que exista algum tipo de benefício que fez com que a taxa de sobrevivência mais elevada esteja relacionada aos que pagaram um maior valor."
      ]
    },
    {
      "cell_type": "markdown",
      "metadata": {
        "id": "ig4lZkF-jplc",
        "colab_type": "text"
      },
      "source": [
        "- **Qtde de passageiros por intervalor de Preço da passagem paga**"
      ]
    },
    {
      "cell_type": "code",
      "metadata": {
        "id": "cm6swK3zjp6L",
        "colab_type": "code",
        "outputId": "b21f0c41-62c4-478b-8c1a-25a86491f5e9",
        "colab": {
          "base_uri": "https://localhost:8080/",
          "height": 136
        }
      },
      "source": [
        "pd.qcut(base_treino['Fare'], 6).value_counts()"
      ],
      "execution_count": 74,
      "outputs": [
        {
          "output_type": "execute_result",
          "data": {
            "text/plain": [
              "(-0.001, 7.775]      156\n",
              "(7.775, 8.662]       152\n",
              "(52.369, 512.329]    149\n",
              "(14.454, 26.0]       149\n",
              "(26.0, 52.369]       146\n",
              "(8.662, 14.454]      139\n",
              "Name: Fare, dtype: int64"
            ]
          },
          "metadata": {
            "tags": []
          },
          "execution_count": 74
        }
      ]
    },
    {
      "cell_type": "markdown",
      "metadata": {
        "id": "SqzjEBAijuc0",
        "colab_type": "text"
      },
      "source": [
        "- **Percentual de sobrevivência nos intervalos de preço pago**"
      ]
    },
    {
      "cell_type": "code",
      "metadata": {
        "id": "f6is8SHAju3a",
        "colab_type": "code",
        "outputId": "92756c41-6f1b-43e6-e688-9be03334ab51",
        "colab": {
          "base_uri": "https://localhost:8080/",
          "height": 153
        }
      },
      "source": [
        "base_treino['Survived'].groupby(pd.qcut(base_treino['Fare'], 6)).mean()"
      ],
      "execution_count": 75,
      "outputs": [
        {
          "output_type": "execute_result",
          "data": {
            "text/plain": [
              "Fare\n",
              "(-0.001, 7.775]      0.205128\n",
              "(7.775, 8.662]       0.190789\n",
              "(8.662, 14.454]      0.366906\n",
              "(14.454, 26.0]       0.436242\n",
              "(26.0, 52.369]       0.417808\n",
              "(52.369, 512.329]    0.697987\n",
              "Name: Survived, dtype: float64"
            ]
          },
          "metadata": {
            "tags": []
          },
          "execution_count": 75
        }
      ]
    },
    {
      "cell_type": "markdown",
      "metadata": {
        "id": "NMeyeGs5jyX-",
        "colab_type": "text"
      },
      "source": [
        "A espectativa tinha fundamento, pois verificando o resultado anterior ficou claro que o grupo que pagou entre 52 a 512 obtiveram uma taxa de sobrevivência de 69,7% e isso é muito significante. \n",
        "\n",
        "Para finalizar a análise de Fare, vamos observar em qual classe os passageiros estavam ao pagar os intervalos de valores definidos anteriormente."
      ]
    },
    {
      "cell_type": "code",
      "metadata": {
        "id": "9X-DNHo8j0KR",
        "colab_type": "code",
        "outputId": "63dcbb4a-6ee5-4620-f46e-a95c030573c7",
        "colab": {
          "base_uri": "https://localhost:8080/",
          "height": 266
        }
      },
      "source": [
        "pd.crosstab(pd.qcut(base_treino['Fare'], 6), columns=base_treino['Pclass'])"
      ],
      "execution_count": 76,
      "outputs": [
        {
          "output_type": "execute_result",
          "data": {
            "text/html": [
              "<div>\n",
              "<style scoped>\n",
              "    .dataframe tbody tr th:only-of-type {\n",
              "        vertical-align: middle;\n",
              "    }\n",
              "\n",
              "    .dataframe tbody tr th {\n",
              "        vertical-align: top;\n",
              "    }\n",
              "\n",
              "    .dataframe thead th {\n",
              "        text-align: right;\n",
              "    }\n",
              "</style>\n",
              "<table border=\"1\" class=\"dataframe\">\n",
              "  <thead>\n",
              "    <tr style=\"text-align: right;\">\n",
              "      <th>Pclass</th>\n",
              "      <th>1</th>\n",
              "      <th>2</th>\n",
              "      <th>3</th>\n",
              "    </tr>\n",
              "    <tr>\n",
              "      <th>Fare</th>\n",
              "      <th></th>\n",
              "      <th></th>\n",
              "      <th></th>\n",
              "    </tr>\n",
              "  </thead>\n",
              "  <tbody>\n",
              "    <tr>\n",
              "      <th>(-0.001, 7.775]</th>\n",
              "      <td>6</td>\n",
              "      <td>6</td>\n",
              "      <td>144</td>\n",
              "    </tr>\n",
              "    <tr>\n",
              "      <th>(7.775, 8.662]</th>\n",
              "      <td>0</td>\n",
              "      <td>0</td>\n",
              "      <td>152</td>\n",
              "    </tr>\n",
              "    <tr>\n",
              "      <th>(8.662, 14.454]</th>\n",
              "      <td>0</td>\n",
              "      <td>86</td>\n",
              "      <td>53</td>\n",
              "    </tr>\n",
              "    <tr>\n",
              "      <th>(14.454, 26.0]</th>\n",
              "      <td>6</td>\n",
              "      <td>53</td>\n",
              "      <td>90</td>\n",
              "    </tr>\n",
              "    <tr>\n",
              "      <th>(26.0, 52.369]</th>\n",
              "      <td>76</td>\n",
              "      <td>32</td>\n",
              "      <td>38</td>\n",
              "    </tr>\n",
              "    <tr>\n",
              "      <th>(52.369, 512.329]</th>\n",
              "      <td>128</td>\n",
              "      <td>7</td>\n",
              "      <td>14</td>\n",
              "    </tr>\n",
              "  </tbody>\n",
              "</table>\n",
              "</div>"
            ],
            "text/plain": [
              "Pclass               1   2    3\n",
              "Fare                           \n",
              "(-0.001, 7.775]      6   6  144\n",
              "(7.775, 8.662]       0   0  152\n",
              "(8.662, 14.454]      0  86   53\n",
              "(14.454, 26.0]       6  53   90\n",
              "(26.0, 52.369]      76  32   38\n",
              "(52.369, 512.329]  128   7   14"
            ]
          },
          "metadata": {
            "tags": []
          },
          "execution_count": 76
        }
      ]
    },
    {
      "cell_type": "markdown",
      "metadata": {
        "id": "XtGtAVeCj3Wu",
        "colab_type": "text"
      },
      "source": [
        "Vamos então analisar alguma relação entre a variável <strong>Cabin</strong>."
      ]
    },
    {
      "cell_type": "code",
      "metadata": {
        "id": "o79k6A3dj3sx",
        "colab_type": "code",
        "outputId": "b991f841-0466-4227-b580-f5c43deaddbb",
        "colab": {
          "base_uri": "https://localhost:8080/",
          "height": 187
        }
      },
      "source": [
        "base_treino['Cabin_'] = base_treino['Cabin'].apply(lambda x: str(x)[0])\n",
        "base_treino['Cabin_'].value_counts()"
      ],
      "execution_count": 77,
      "outputs": [
        {
          "output_type": "execute_result",
          "data": {
            "text/plain": [
              "n    687\n",
              "C     59\n",
              "B     47\n",
              "D     33\n",
              "E     32\n",
              "A     15\n",
              "F     13\n",
              "G      4\n",
              "T      1\n",
              "Name: Cabin_, dtype: int64"
            ]
          },
          "metadata": {
            "tags": []
          },
          "execution_count": 77
        }
      ]
    },
    {
      "cell_type": "code",
      "metadata": {
        "id": "fscBS29Xj45u",
        "colab_type": "code",
        "outputId": "322c0648-0a77-46fb-b7ff-8eb991592b13",
        "colab": {
          "base_uri": "https://localhost:8080/",
          "height": 204
        }
      },
      "source": [
        "base_treino.groupby(['Cabin_'])['Survived'].mean().sort_values()"
      ],
      "execution_count": 78,
      "outputs": [
        {
          "output_type": "execute_result",
          "data": {
            "text/plain": [
              "Cabin_\n",
              "T    0.000000\n",
              "n    0.299854\n",
              "A    0.466667\n",
              "G    0.500000\n",
              "C    0.593220\n",
              "F    0.615385\n",
              "B    0.744681\n",
              "E    0.750000\n",
              "D    0.757576\n",
              "Name: Survived, dtype: float64"
            ]
          },
          "metadata": {
            "tags": []
          },
          "execution_count": 78
        }
      ]
    },
    {
      "cell_type": "markdown",
      "metadata": {
        "id": "H8ozo6_-j8SU",
        "colab_type": "text"
      },
      "source": [
        "A taxa de sobrevivência encontrada ao grupo classificado como D foi de 75,75%, E 75%, isso é extramente relevante, conseguiremos extrair bons resultados desses dados."
      ]
    },
    {
      "cell_type": "code",
      "metadata": {
        "id": "J2qu4IT8j_dU",
        "colab_type": "code",
        "outputId": "632e3d36-c810-423c-fcf0-34c4f4a7ac0c",
        "colab": {
          "base_uri": "https://localhost:8080/",
          "height": 102
        }
      },
      "source": [
        "base_treino['Cabin_num'] = base_treino['Cabin'].apply(lambda x: str(x).split(' ')[-1][1:])\n",
        "base_treino['Cabin_num'].replace('an', np.NaN, inplace = True)\n",
        "base_treino['Cabin_num'] = base_treino['Cabin_num'].apply(lambda x: int(x) if not pd.isnull(x) and x != '' else np.NaN)\n",
        "\n",
        "base_treino['Survived'].groupby(pd.qcut(base_treino['Cabin_num'], 3)).mean()"
      ],
      "execution_count": 79,
      "outputs": [
        {
          "output_type": "execute_result",
          "data": {
            "text/plain": [
              "Cabin_num\n",
              "(1.999, 28.667]     0.716418\n",
              "(28.667, 65.667]    0.651515\n",
              "(65.667, 148.0]     0.641791\n",
              "Name: Survived, dtype: float64"
            ]
          },
          "metadata": {
            "tags": []
          },
          "execution_count": 79
        }
      ]
    },
    {
      "cell_type": "markdown",
      "metadata": {
        "id": "YHJPmu7vkB29",
        "colab_type": "text"
      },
      "source": [
        "Vale salientar que as outras duas variáveis não abordadas até então (SibSp e Parch), não são ao meu ver tão importantes nesse momento, pois suas relações são aos familiares e cônjuges dos passageiros, sendo assim, se fazem desnecessárias, pois já conseguimos formular dados que poderiam ser extraídos delas, que no caso foi <strong>family_size</strong>.\n",
        "\n",
        "Estamos chegando ao fim...Vamos observar por ultimo a variável <strong>Embarked</strong>.\n",
        "Inicialmente, vimos que essa coluna possuí valores faltantes, vamos substituí-los pelo valor mais comum e ver o agrupamento dos dados em relação aos sobreviventes."
      ]
    },
    {
      "cell_type": "code",
      "metadata": {
        "id": "lXFsCHyKkCSR",
        "colab_type": "code",
        "outputId": "ef2c93f6-6927-4b4e-f150-998740c89bc4",
        "colab": {
          "base_uri": "https://localhost:8080/",
          "height": 102
        }
      },
      "source": [
        "base_treino[\"Embarked\"].fillna(statistics.mode(base_treino['Embarked']),inplace=True)\n",
        "base_treino['Survived'].groupby(base_treino['Embarked']).mean()"
      ],
      "execution_count": 80,
      "outputs": [
        {
          "output_type": "execute_result",
          "data": {
            "text/plain": [
              "Embarked\n",
              "C    0.553571\n",
              "Q    0.389610\n",
              "S    0.339009\n",
              "Name: Survived, dtype: float64"
            ]
          },
          "metadata": {
            "tags": []
          },
          "execution_count": 80
        }
      ]
    },
    {
      "cell_type": "markdown",
      "metadata": {
        "id": "q0XhcrQJkIZs",
        "colab_type": "text"
      },
      "source": [
        "#### Utils"
      ]
    },
    {
      "cell_type": "code",
      "metadata": {
        "id": "bMOCkngVkIxe",
        "colab_type": "code",
        "colab": {}
      },
      "source": [
        "def tratar_nomes(base_treino, base_teste):\n",
        "    for i in [base_treino, base_teste]:\n",
        "        i['Name_Tam'] = i['Name'].apply(lambda x: len(x))\n",
        "        i['Nome_Titulo'] = i['Name'].apply(lambda x: x.split(',')[1]).apply(lambda x: x.split()[0])\n",
        "    return base_treino, base_teste\n",
        "\n",
        "def tratar_idade(base_treino, base_teste):\n",
        "    for i in [base_treino, base_teste]:\n",
        "        i['Age_Nulo'] = i['Age'].apply(lambda x: 1 if pd.isnull(x) else 0)\n",
        "        data = base_treino.groupby(['Nome_Titulo', 'Pclass'])['Age']\n",
        "        i['Age'] = data.transform(lambda x: x.fillna(x.mean()))\n",
        "    return base_treino, base_teste\n",
        "\n",
        "def tratar_familia(base_treino, base_teste):\n",
        "    for i in [base_treino, base_teste]:\n",
        "        i['Fam_Tam'] = np.where((i['SibSp']+i['Parch']) == 0 , 'Sozinho',\n",
        "                           np.where((i['SibSp']+i['Parch']) <= 3,'Pequena', 'Grande'))\n",
        "        del i['SibSp']\n",
        "        del i['Parch']\n",
        "    return base_treino, base_teste\n",
        "\n",
        "def tratar_ticket(base_treino, base_teste):\n",
        "    for i in [base_treino, base_teste]:\n",
        "        i['Ticket_'] = i['Ticket'].apply(lambda x: str(x)[0])\n",
        "        i['Ticket_'] = i['Ticket_'].apply(lambda x: str(x))\n",
        "        i['Ticket_'] = np.where((i['Ticket_']).isin(['1', '2', '3', 'S', 'P', 'C', 'A']), i['Ticket_'],\n",
        "                                   np.where((i['Ticket_']).isin(['W', '4', '7', '6', 'L', '5', '8']),\n",
        "                                            'Ticket_barato', 'Ticket_outros'))\n",
        "        i['Ticket_'] = i['Ticket_'].apply(lambda x: len(x))\n",
        "    return base_treino, base_teste\n",
        "\n",
        "def tratar_cabin(base_treino, base_teste):\n",
        "    for i in [base_treino, base_teste]:\n",
        "        i['Cabin_'] = i['Cabin'].apply(lambda x: str(x)[0])\n",
        "    return base_treino, base_teste\n",
        "\n",
        "def tratar_num_cabine(base_treino, base_teste):\n",
        "    for i in [base_treino, base_teste]:\n",
        "        i['Cabin_temp'] = i['Cabin'].apply(lambda x: str(x).split(' ')[-1][1:])\n",
        "        i['Cabin_temp'].replace('an', np.NaN, inplace = True)\n",
        "        i['Cabin_temp'] = i['Cabin_temp'].apply(lambda x: int(x) if not pd.isnull(x) and x != '' else np.NaN)\n",
        "        i['Cabin_num'] = pd.qcut(base_treino['Cabin_temp'],3)\n",
        "    base_treino = pd.concat((base_treino, pd.get_dummies(base_treino['Cabin_num'], prefix = 'Cabin_num')), axis = 1)\n",
        "    base_teste = pd.concat((base_teste, pd.get_dummies(base_teste['Cabin_num'], prefix = 'Cabin_num')), axis = 1)\n",
        "    del base_treino['Cabin_num']\n",
        "    del base_teste['Cabin_num']\n",
        "    del base_treino['Cabin_temp']\n",
        "    del base_teste['Cabin_temp']\n",
        "    return base_treino, base_teste\n",
        "\n",
        "def tratar_local_embarque(base_treino, base_teste):\n",
        "    for i in [base_treino, base_teste]:\n",
        "        i['Embarked'] = i['Embarked'].fillna('S')\n",
        "    return base_treino, base_teste\n",
        "\n",
        "def gerar_dummies(base_treino, base_teste, columns):\n",
        "    for col in columns:\n",
        "        base_treino[col] = base_treino[col].apply(lambda x: str(x))\n",
        "        base_teste[col] = base_teste[col].apply(lambda x: str(x))\n",
        "        coluna = [col+'_'+i for i in base_treino[col].unique() if i in base_teste[col].unique()]\n",
        "        base_treino = pd.concat((base_treino, pd.get_dummies(base_treino[col], prefix = col)[coluna]), axis = 1)\n",
        "        base_teste = pd.concat((base_teste, pd.get_dummies(base_teste[col], prefix = col)[coluna]), axis = 1)\n",
        "        del base_treino[col]\n",
        "        del base_teste[col]\n",
        "    return base_treino, base_teste"
      ],
      "execution_count": 0,
      "outputs": []
    },
    {
      "cell_type": "markdown",
      "metadata": {
        "id": "25od86i7kNwk",
        "colab_type": "text"
      },
      "source": [
        "### Tratando os dados p gerar o modelo e previsões\n"
      ]
    },
    {
      "cell_type": "code",
      "metadata": {
        "id": "Rg_D-ysUkOFN",
        "colab_type": "code",
        "colab": {}
      },
      "source": [
        "base_treino = pd.read_csv(\"https://raw.githubusercontent.com/pbitalo/titanic-kaggle/master/train.csv\")\n",
        "base_teste = pd.read_csv(\"https://raw.githubusercontent.com/pbitalo/titanic-kaggle/master/test.csv\")\n",
        "\n",
        "base_treino, base_teste = tratar_nomes(base_treino, base_teste)\n",
        "\n",
        "del base_treino['Name']\n",
        "del base_teste['Name']\n",
        "\n",
        "base_treino, base_teste = tratar_idade(base_treino, base_teste)\n",
        "base_treino, base_teste = tratar_num_cabine(base_treino, base_teste)\n",
        "base_treino, base_teste = tratar_cabin(base_treino, base_teste)\n",
        "\n",
        "del base_treino['Cabin']\n",
        "del base_teste['Cabin']\n",
        "\n",
        "base_treino, base_teste = tratar_local_embarque(base_treino, base_teste)\n",
        "base_treino, base_teste = tratar_familia(base_treino, base_teste)\n",
        "\n",
        "base_teste['Fare'].fillna(base_treino['Fare'].mean(), inplace = True)\n",
        "base_treino['Fare'].fillna(base_treino['Fare'].mean(), inplace = True)\n",
        "\n",
        "base_treino, base_teste = tratar_ticket(base_treino, base_teste)\n",
        "\n",
        "del base_treino['Ticket']\n",
        "del base_teste['Ticket']\n",
        "\n",
        "base_treino, base_teste = gerar_dummies(base_treino, base_teste, columns = ['Pclass', 'Sex', 'Embarked', 'Ticket_','Cabin_', 'Nome_Titulo', 'Fam_Tam'])\n",
        "                                                                     \n",
        "del base_treino['PassengerId']\n",
        "del base_teste['PassengerId']"
      ],
      "execution_count": 0,
      "outputs": []
    },
    {
      "cell_type": "markdown",
      "metadata": {
        "id": "w-szsP2KkYb9",
        "colab_type": "text"
      },
      "source": [
        "#### Realizando Previsão com algoritmo RandomForestClassifier"
      ]
    },
    {
      "cell_type": "code",
      "metadata": {
        "id": "L9VkDVnnkY2m",
        "colab_type": "code",
        "outputId": "bbb23405-e642-44d3-9872-5c734c64c098",
        "colab": {
          "base_uri": "https://localhost:8080/",
          "height": 34
        }
      },
      "source": [
        "rf = RandomForestClassifier(criterion='gini', \n",
        "                             n_estimators=700,\n",
        "                             min_samples_split=10,\n",
        "                             min_samples_leaf=1,\n",
        "                             max_features='auto',\n",
        "                             oob_score=True,\n",
        "                             random_state=1,\n",
        "                             n_jobs=-1)\n",
        "rf.fit(base_treino.iloc[:, 1:], base_treino.iloc[:, 0])\n",
        "\n",
        "print(\"Score = \", rf.oob_score_*100, '%')"
      ],
      "execution_count": 83,
      "outputs": [
        {
          "output_type": "stream",
          "text": [
            "Score =  83.05274971941638 %\n"
          ],
          "name": "stdout"
        }
      ]
    },
    {
      "cell_type": "code",
      "metadata": {
        "id": "QftpkXvjkbDN",
        "colab_type": "code",
        "colab": {}
      },
      "source": [
        "predictions = rf.predict(base_teste)\n",
        "predictions = pd.DataFrame(predictions, columns=['Survived'])\n",
        "teste = pd.read_csv(\"https://raw.githubusercontent.com/pbitalo/titanic-kaggle/master/test.csv\")\n",
        "predictions = pd.concat((teste.iloc[:, 0], predictions), axis = 1)\n",
        "predictions.to_csv('randomForestPredict.csv',index = False)"
      ],
      "execution_count": 0,
      "outputs": []
    },
    {
      "cell_type": "markdown",
      "metadata": {
        "id": "qHs4uaqsko3V",
        "colab_type": "text"
      },
      "source": [
        "<h6 class=\"text-center\">Submit ao site do Kaggle</h6>\n",
        "<img src=\"https://raw.githubusercontent.com/pbitalo/titanic-kaggle/master/randomForestPredict.jpg\">"
      ]
    },
    {
      "cell_type": "markdown",
      "metadata": {
        "id": "79yhLkIclX6_",
        "colab_type": "text"
      },
      "source": [
        "#### Ajustando Hyperparameteros e gerando um pipeline simples afim de testar algoritmos e melhorar a previsão"
      ]
    },
    {
      "cell_type": "code",
      "metadata": {
        "id": "24rYii03laEd",
        "colab_type": "code",
        "outputId": "02f820ec-52d4-40c1-f350-fca246486e21",
        "colab": {
          "base_uri": "https://localhost:8080/",
          "height": 85
        }
      },
      "source": [
        "seed = 42\n",
        "scoring = {'Accuracy': make_scorer(accuracy_score)}\n",
        "\n",
        "pipe = Pipeline(steps = [(\"clf\",XGBClassifier())])\n",
        "\n",
        "search_space = [\n",
        "                {\"clf\":[RandomForestClassifier()],\n",
        "                 \"clf__n_estimators\": [100],\n",
        "                 \"clf__criterion\": [\"gini\",\"entropy\"],\n",
        "                 \"clf__max_leaf_nodes\": [64],\n",
        "                 \"clf__random_state\": [seed]\n",
        "                 },\n",
        "                {\"clf\":[LogisticRegression()],\n",
        "                 \"clf__solver\": [\"liblinear\"]\n",
        "                 },\n",
        "                {\"clf\":[XGBClassifier()],\n",
        "                 \"clf__n_estimators\": [50,100],\n",
        "                 \"clf__max_depth\": [4],\n",
        "                 \"clf__learning_rate\": [0.001, 0.01,0.1],\n",
        "                 \"clf__random_state\": [seed],\n",
        "                 \"clf__subsample\": [1.0],\n",
        "                 \"clf__colsample_bytree\": [1.0],\n",
        "                 }\n",
        "                ]\n",
        "\n",
        "pg = ParameterGrid(search_space)\n",
        "print(\"O pipeline executará {qtd} combinações\".format(qtd=len(pg)))\n",
        "\n",
        "kfold = StratifiedKFold(n_splits=10)\n",
        "\n",
        "grid = GridSearchCV(estimator=pipe, \n",
        "                    param_grid=search_space,\n",
        "                    cv=kfold,\n",
        "                    scoring=scoring,\n",
        "                    return_train_score=True,\n",
        "                    n_jobs=-1,\n",
        "                    refit=\"Accuracy\")\n",
        "\n",
        "print('Treinamento começando em {}'.format(datetime.datetime.now().strftime(\"%Y-%m-%d %H:%M:%S\")))   \n",
        "\n",
        "time_1 = time.time()\n",
        "best_model = grid.fit(base_treino.iloc[:, 1:], base_treino.iloc[:, 0])\n",
        "\n",
        "print('Treinamento terminando em {}'.format(datetime.datetime.now().strftime(\"%Y-%m-%d %H:%M:%S\")))   \n",
        "print('Duração: {}s'.format(time.time() - time_1))"
      ],
      "execution_count": 85,
      "outputs": [
        {
          "output_type": "stream",
          "text": [
            "O pipeline executará 9 combinações\n",
            "Treinamento começando em 2020-05-24 17:16:56\n",
            "Treinamento terminando em 2020-05-24 17:17:00\n",
            "Duração: 4.032921314239502s\n"
          ],
          "name": "stdout"
        }
      ]
    },
    {
      "cell_type": "code",
      "metadata": {
        "id": "9Laih7Xnlc2V",
        "colab_type": "code",
        "outputId": "8e045e04-35a2-49cf-fcc7-1354034b7fdd",
        "colab": {
          "base_uri": "https://localhost:8080/",
          "height": 190
        }
      },
      "source": [
        "print('Melhor score com ',best_model.best_score_*100,' %')\n",
        "print('Usando : ',best_model.best_params_)"
      ],
      "execution_count": 86,
      "outputs": [
        {
          "output_type": "stream",
          "text": [
            "Melhor score com  83.72908863920101  %\n",
            "Usando :  {'clf': RandomForestClassifier(bootstrap=True, ccp_alpha=0.0, class_weight=None,\n",
            "                       criterion='entropy', max_depth=None, max_features='auto',\n",
            "                       max_leaf_nodes=64, max_samples=None,\n",
            "                       min_impurity_decrease=0.0, min_impurity_split=None,\n",
            "                       min_samples_leaf=1, min_samples_split=2,\n",
            "                       min_weight_fraction_leaf=0.0, n_estimators=100,\n",
            "                       n_jobs=None, oob_score=False, random_state=42, verbose=0,\n",
            "                       warm_start=False), 'clf__criterion': 'entropy', 'clf__max_leaf_nodes': 64, 'clf__n_estimators': 100, 'clf__random_state': 42}\n"
          ],
          "name": "stdout"
        }
      ]
    },
    {
      "cell_type": "code",
      "metadata": {
        "id": "Rs3IvzJhldTS",
        "colab_type": "code",
        "outputId": "a7e51300-758a-4cb5-9580-ca12988d0628",
        "colab": {
          "base_uri": "https://localhost:8080/",
          "height": 309
        }
      },
      "source": [
        "result = pd.DataFrame(best_model.cv_results_)\n",
        "result.head()"
      ],
      "execution_count": 87,
      "outputs": [
        {
          "output_type": "execute_result",
          "data": {
            "text/html": [
              "<div>\n",
              "<style scoped>\n",
              "    .dataframe tbody tr th:only-of-type {\n",
              "        vertical-align: middle;\n",
              "    }\n",
              "\n",
              "    .dataframe tbody tr th {\n",
              "        vertical-align: top;\n",
              "    }\n",
              "\n",
              "    .dataframe thead th {\n",
              "        text-align: right;\n",
              "    }\n",
              "</style>\n",
              "<table border=\"1\" class=\"dataframe\">\n",
              "  <thead>\n",
              "    <tr style=\"text-align: right;\">\n",
              "      <th></th>\n",
              "      <th>mean_fit_time</th>\n",
              "      <th>std_fit_time</th>\n",
              "      <th>mean_score_time</th>\n",
              "      <th>std_score_time</th>\n",
              "      <th>param_clf</th>\n",
              "      <th>param_clf__criterion</th>\n",
              "      <th>param_clf__max_leaf_nodes</th>\n",
              "      <th>param_clf__n_estimators</th>\n",
              "      <th>param_clf__random_state</th>\n",
              "      <th>param_clf__solver</th>\n",
              "      <th>param_clf__colsample_bytree</th>\n",
              "      <th>param_clf__learning_rate</th>\n",
              "      <th>param_clf__max_depth</th>\n",
              "      <th>param_clf__subsample</th>\n",
              "      <th>params</th>\n",
              "      <th>split0_test_Accuracy</th>\n",
              "      <th>split1_test_Accuracy</th>\n",
              "      <th>split2_test_Accuracy</th>\n",
              "      <th>split3_test_Accuracy</th>\n",
              "      <th>split4_test_Accuracy</th>\n",
              "      <th>split5_test_Accuracy</th>\n",
              "      <th>split6_test_Accuracy</th>\n",
              "      <th>split7_test_Accuracy</th>\n",
              "      <th>split8_test_Accuracy</th>\n",
              "      <th>split9_test_Accuracy</th>\n",
              "      <th>mean_test_Accuracy</th>\n",
              "      <th>std_test_Accuracy</th>\n",
              "      <th>rank_test_Accuracy</th>\n",
              "      <th>split0_train_Accuracy</th>\n",
              "      <th>split1_train_Accuracy</th>\n",
              "      <th>split2_train_Accuracy</th>\n",
              "      <th>split3_train_Accuracy</th>\n",
              "      <th>split4_train_Accuracy</th>\n",
              "      <th>split5_train_Accuracy</th>\n",
              "      <th>split6_train_Accuracy</th>\n",
              "      <th>split7_train_Accuracy</th>\n",
              "      <th>split8_train_Accuracy</th>\n",
              "      <th>split9_train_Accuracy</th>\n",
              "      <th>mean_train_Accuracy</th>\n",
              "      <th>std_train_Accuracy</th>\n",
              "    </tr>\n",
              "  </thead>\n",
              "  <tbody>\n",
              "    <tr>\n",
              "      <th>0</th>\n",
              "      <td>0.280705</td>\n",
              "      <td>0.007771</td>\n",
              "      <td>0.017767</td>\n",
              "      <td>0.003541</td>\n",
              "      <td>RandomForestClassifier(bootstrap=True, ccp_alp...</td>\n",
              "      <td>gini</td>\n",
              "      <td>64</td>\n",
              "      <td>100</td>\n",
              "      <td>42</td>\n",
              "      <td>NaN</td>\n",
              "      <td>NaN</td>\n",
              "      <td>NaN</td>\n",
              "      <td>NaN</td>\n",
              "      <td>NaN</td>\n",
              "      <td>{'clf': RandomForestClassifier(bootstrap=True,...</td>\n",
              "      <td>0.811111</td>\n",
              "      <td>0.842697</td>\n",
              "      <td>0.775281</td>\n",
              "      <td>0.842697</td>\n",
              "      <td>0.853933</td>\n",
              "      <td>0.842697</td>\n",
              "      <td>0.842697</td>\n",
              "      <td>0.808989</td>\n",
              "      <td>0.865169</td>\n",
              "      <td>0.853933</td>\n",
              "      <td>0.833920</td>\n",
              "      <td>0.025819</td>\n",
              "      <td>3</td>\n",
              "      <td>0.930087</td>\n",
              "      <td>0.922693</td>\n",
              "      <td>0.935162</td>\n",
              "      <td>0.928928</td>\n",
              "      <td>0.920200</td>\n",
              "      <td>0.922693</td>\n",
              "      <td>0.925187</td>\n",
              "      <td>0.921446</td>\n",
              "      <td>0.920200</td>\n",
              "      <td>0.920200</td>\n",
              "      <td>0.924680</td>\n",
              "      <td>0.004858</td>\n",
              "    </tr>\n",
              "    <tr>\n",
              "      <th>1</th>\n",
              "      <td>0.301818</td>\n",
              "      <td>0.013265</td>\n",
              "      <td>0.017578</td>\n",
              "      <td>0.001868</td>\n",
              "      <td>RandomForestClassifier(bootstrap=True, ccp_alp...</td>\n",
              "      <td>entropy</td>\n",
              "      <td>64</td>\n",
              "      <td>100</td>\n",
              "      <td>42</td>\n",
              "      <td>NaN</td>\n",
              "      <td>NaN</td>\n",
              "      <td>NaN</td>\n",
              "      <td>NaN</td>\n",
              "      <td>NaN</td>\n",
              "      <td>{'clf': RandomForestClassifier(bootstrap=True,...</td>\n",
              "      <td>0.811111</td>\n",
              "      <td>0.876404</td>\n",
              "      <td>0.764045</td>\n",
              "      <td>0.865169</td>\n",
              "      <td>0.876404</td>\n",
              "      <td>0.831461</td>\n",
              "      <td>0.831461</td>\n",
              "      <td>0.797753</td>\n",
              "      <td>0.865169</td>\n",
              "      <td>0.853933</td>\n",
              "      <td>0.837291</td>\n",
              "      <td>0.035458</td>\n",
              "      <td>1</td>\n",
              "      <td>0.926342</td>\n",
              "      <td>0.915212</td>\n",
              "      <td>0.935162</td>\n",
              "      <td>0.927681</td>\n",
              "      <td>0.915212</td>\n",
              "      <td>0.922693</td>\n",
              "      <td>0.915212</td>\n",
              "      <td>0.918953</td>\n",
              "      <td>0.916459</td>\n",
              "      <td>0.918953</td>\n",
              "      <td>0.921188</td>\n",
              "      <td>0.006370</td>\n",
              "    </tr>\n",
              "    <tr>\n",
              "      <th>2</th>\n",
              "      <td>0.010897</td>\n",
              "      <td>0.001712</td>\n",
              "      <td>0.002337</td>\n",
              "      <td>0.001393</td>\n",
              "      <td>LogisticRegression(C=1.0, class_weight=None, d...</td>\n",
              "      <td>NaN</td>\n",
              "      <td>NaN</td>\n",
              "      <td>NaN</td>\n",
              "      <td>NaN</td>\n",
              "      <td>liblinear</td>\n",
              "      <td>NaN</td>\n",
              "      <td>NaN</td>\n",
              "      <td>NaN</td>\n",
              "      <td>NaN</td>\n",
              "      <td>{'clf': LogisticRegression(C=1.0, class_weight...</td>\n",
              "      <td>0.822222</td>\n",
              "      <td>0.865169</td>\n",
              "      <td>0.775281</td>\n",
              "      <td>0.876404</td>\n",
              "      <td>0.831461</td>\n",
              "      <td>0.797753</td>\n",
              "      <td>0.842697</td>\n",
              "      <td>0.842697</td>\n",
              "      <td>0.876404</td>\n",
              "      <td>0.842697</td>\n",
              "      <td>0.837278</td>\n",
              "      <td>0.030974</td>\n",
              "      <td>2</td>\n",
              "      <td>0.843945</td>\n",
              "      <td>0.842893</td>\n",
              "      <td>0.852868</td>\n",
              "      <td>0.842893</td>\n",
              "      <td>0.837905</td>\n",
              "      <td>0.854115</td>\n",
              "      <td>0.839152</td>\n",
              "      <td>0.844140</td>\n",
              "      <td>0.839152</td>\n",
              "      <td>0.840399</td>\n",
              "      <td>0.843746</td>\n",
              "      <td>0.005290</td>\n",
              "    </tr>\n",
              "    <tr>\n",
              "      <th>3</th>\n",
              "      <td>0.007051</td>\n",
              "      <td>0.002499</td>\n",
              "      <td>0.000000</td>\n",
              "      <td>0.000000</td>\n",
              "      <td>XGBClassifier(base_score=0.5, booster='gbtree'...</td>\n",
              "      <td>NaN</td>\n",
              "      <td>NaN</td>\n",
              "      <td>50</td>\n",
              "      <td>42</td>\n",
              "      <td>NaN</td>\n",
              "      <td>1</td>\n",
              "      <td>0.001</td>\n",
              "      <td>4</td>\n",
              "      <td>1</td>\n",
              "      <td>{'clf': XGBClassifier(base_score=0.5, booster=...</td>\n",
              "      <td>NaN</td>\n",
              "      <td>NaN</td>\n",
              "      <td>NaN</td>\n",
              "      <td>NaN</td>\n",
              "      <td>NaN</td>\n",
              "      <td>NaN</td>\n",
              "      <td>NaN</td>\n",
              "      <td>NaN</td>\n",
              "      <td>NaN</td>\n",
              "      <td>NaN</td>\n",
              "      <td>NaN</td>\n",
              "      <td>NaN</td>\n",
              "      <td>4</td>\n",
              "      <td>NaN</td>\n",
              "      <td>NaN</td>\n",
              "      <td>NaN</td>\n",
              "      <td>NaN</td>\n",
              "      <td>NaN</td>\n",
              "      <td>NaN</td>\n",
              "      <td>NaN</td>\n",
              "      <td>NaN</td>\n",
              "      <td>NaN</td>\n",
              "      <td>NaN</td>\n",
              "      <td>NaN</td>\n",
              "      <td>NaN</td>\n",
              "    </tr>\n",
              "    <tr>\n",
              "      <th>4</th>\n",
              "      <td>0.006571</td>\n",
              "      <td>0.004724</td>\n",
              "      <td>0.000000</td>\n",
              "      <td>0.000000</td>\n",
              "      <td>XGBClassifier(base_score=0.5, booster='gbtree'...</td>\n",
              "      <td>NaN</td>\n",
              "      <td>NaN</td>\n",
              "      <td>100</td>\n",
              "      <td>42</td>\n",
              "      <td>NaN</td>\n",
              "      <td>1</td>\n",
              "      <td>0.001</td>\n",
              "      <td>4</td>\n",
              "      <td>1</td>\n",
              "      <td>{'clf': XGBClassifier(base_score=0.5, booster=...</td>\n",
              "      <td>NaN</td>\n",
              "      <td>NaN</td>\n",
              "      <td>NaN</td>\n",
              "      <td>NaN</td>\n",
              "      <td>NaN</td>\n",
              "      <td>NaN</td>\n",
              "      <td>NaN</td>\n",
              "      <td>NaN</td>\n",
              "      <td>NaN</td>\n",
              "      <td>NaN</td>\n",
              "      <td>NaN</td>\n",
              "      <td>NaN</td>\n",
              "      <td>5</td>\n",
              "      <td>NaN</td>\n",
              "      <td>NaN</td>\n",
              "      <td>NaN</td>\n",
              "      <td>NaN</td>\n",
              "      <td>NaN</td>\n",
              "      <td>NaN</td>\n",
              "      <td>NaN</td>\n",
              "      <td>NaN</td>\n",
              "      <td>NaN</td>\n",
              "      <td>NaN</td>\n",
              "      <td>NaN</td>\n",
              "      <td>NaN</td>\n",
              "    </tr>\n",
              "  </tbody>\n",
              "</table>\n",
              "</div>"
            ],
            "text/plain": [
              "   mean_fit_time  std_fit_time  ...  mean_train_Accuracy  std_train_Accuracy\n",
              "0       0.280705      0.007771  ...             0.924680            0.004858\n",
              "1       0.301818      0.013265  ...             0.921188            0.006370\n",
              "2       0.010897      0.001712  ...             0.843746            0.005290\n",
              "3       0.007051      0.002499  ...                  NaN                 NaN\n",
              "4       0.006571      0.004724  ...                  NaN                 NaN\n",
              "\n",
              "[5 rows x 40 columns]"
            ]
          },
          "metadata": {
            "tags": []
          },
          "execution_count": 87
        }
      ]
    },
    {
      "cell_type": "markdown",
      "metadata": {
        "id": "iID4Aa6olg5p",
        "colab_type": "text"
      },
      "source": [
        "#### Verificando alguns dados estatísticos dos resultados comparativos entre os modelos gerados pelo pipeline"
      ]
    },
    {
      "cell_type": "code",
      "metadata": {
        "id": "pS0Y6rC8lhKS",
        "colab_type": "code",
        "outputId": "68f3718a-7c3b-4cef-9261-c2fffd77abf8",
        "colab": {
          "base_uri": "https://localhost:8080/",
          "height": 328
        }
      },
      "source": [
        "result_acc = result[['mean_train_Accuracy', 'std_train_Accuracy','mean_test_Accuracy', 'std_test_Accuracy','rank_test_Accuracy']].copy()\n",
        "result_acc[\"std_ratio\"] = result_acc.std_test_Accuracy/result_acc.std_train_Accuracy\n",
        "result_acc.sort_values(by=\"rank_test_Accuracy\",ascending=True)"
      ],
      "execution_count": 88,
      "outputs": [
        {
          "output_type": "execute_result",
          "data": {
            "text/html": [
              "<div>\n",
              "<style scoped>\n",
              "    .dataframe tbody tr th:only-of-type {\n",
              "        vertical-align: middle;\n",
              "    }\n",
              "\n",
              "    .dataframe tbody tr th {\n",
              "        vertical-align: top;\n",
              "    }\n",
              "\n",
              "    .dataframe thead th {\n",
              "        text-align: right;\n",
              "    }\n",
              "</style>\n",
              "<table border=\"1\" class=\"dataframe\">\n",
              "  <thead>\n",
              "    <tr style=\"text-align: right;\">\n",
              "      <th></th>\n",
              "      <th>mean_train_Accuracy</th>\n",
              "      <th>std_train_Accuracy</th>\n",
              "      <th>mean_test_Accuracy</th>\n",
              "      <th>std_test_Accuracy</th>\n",
              "      <th>rank_test_Accuracy</th>\n",
              "      <th>std_ratio</th>\n",
              "    </tr>\n",
              "  </thead>\n",
              "  <tbody>\n",
              "    <tr>\n",
              "      <th>1</th>\n",
              "      <td>0.921188</td>\n",
              "      <td>0.006370</td>\n",
              "      <td>0.837291</td>\n",
              "      <td>0.035458</td>\n",
              "      <td>1</td>\n",
              "      <td>5.566451</td>\n",
              "    </tr>\n",
              "    <tr>\n",
              "      <th>2</th>\n",
              "      <td>0.843746</td>\n",
              "      <td>0.005290</td>\n",
              "      <td>0.837278</td>\n",
              "      <td>0.030974</td>\n",
              "      <td>2</td>\n",
              "      <td>5.854729</td>\n",
              "    </tr>\n",
              "    <tr>\n",
              "      <th>0</th>\n",
              "      <td>0.924680</td>\n",
              "      <td>0.004858</td>\n",
              "      <td>0.833920</td>\n",
              "      <td>0.025819</td>\n",
              "      <td>3</td>\n",
              "      <td>5.314777</td>\n",
              "    </tr>\n",
              "    <tr>\n",
              "      <th>3</th>\n",
              "      <td>NaN</td>\n",
              "      <td>NaN</td>\n",
              "      <td>NaN</td>\n",
              "      <td>NaN</td>\n",
              "      <td>4</td>\n",
              "      <td>NaN</td>\n",
              "    </tr>\n",
              "    <tr>\n",
              "      <th>4</th>\n",
              "      <td>NaN</td>\n",
              "      <td>NaN</td>\n",
              "      <td>NaN</td>\n",
              "      <td>NaN</td>\n",
              "      <td>5</td>\n",
              "      <td>NaN</td>\n",
              "    </tr>\n",
              "    <tr>\n",
              "      <th>5</th>\n",
              "      <td>NaN</td>\n",
              "      <td>NaN</td>\n",
              "      <td>NaN</td>\n",
              "      <td>NaN</td>\n",
              "      <td>6</td>\n",
              "      <td>NaN</td>\n",
              "    </tr>\n",
              "    <tr>\n",
              "      <th>6</th>\n",
              "      <td>NaN</td>\n",
              "      <td>NaN</td>\n",
              "      <td>NaN</td>\n",
              "      <td>NaN</td>\n",
              "      <td>7</td>\n",
              "      <td>NaN</td>\n",
              "    </tr>\n",
              "    <tr>\n",
              "      <th>7</th>\n",
              "      <td>NaN</td>\n",
              "      <td>NaN</td>\n",
              "      <td>NaN</td>\n",
              "      <td>NaN</td>\n",
              "      <td>8</td>\n",
              "      <td>NaN</td>\n",
              "    </tr>\n",
              "    <tr>\n",
              "      <th>8</th>\n",
              "      <td>NaN</td>\n",
              "      <td>NaN</td>\n",
              "      <td>NaN</td>\n",
              "      <td>NaN</td>\n",
              "      <td>9</td>\n",
              "      <td>NaN</td>\n",
              "    </tr>\n",
              "  </tbody>\n",
              "</table>\n",
              "</div>"
            ],
            "text/plain": [
              "   mean_train_Accuracy  std_train_Accuracy  ...  rank_test_Accuracy  std_ratio\n",
              "1             0.921188            0.006370  ...                   1   5.566451\n",
              "2             0.843746            0.005290  ...                   2   5.854729\n",
              "0             0.924680            0.004858  ...                   3   5.314777\n",
              "3                  NaN                 NaN  ...                   4        NaN\n",
              "4                  NaN                 NaN  ...                   5        NaN\n",
              "5                  NaN                 NaN  ...                   6        NaN\n",
              "6                  NaN                 NaN  ...                   7        NaN\n",
              "7                  NaN                 NaN  ...                   8        NaN\n",
              "8                  NaN                 NaN  ...                   9        NaN\n",
              "\n",
              "[9 rows x 6 columns]"
            ]
          },
          "metadata": {
            "tags": []
          },
          "execution_count": 88
        }
      ]
    },
    {
      "cell_type": "markdown",
      "metadata": {
        "id": "Hxef65-Smwo_",
        "colab_type": "text"
      },
      "source": [
        "#### Realizando previsões com o melhor modelo gerado"
      ]
    },
    {
      "cell_type": "code",
      "metadata": {
        "id": "EaGM5VxkmxI9",
        "colab_type": "code",
        "colab": {}
      },
      "source": [
        "predict_final = best_model.best_estimator_.predict(base_teste)"
      ],
      "execution_count": 0,
      "outputs": []
    },
    {
      "cell_type": "markdown",
      "metadata": {
        "id": "k5y6bZYGm2B5",
        "colab_type": "text"
      },
      "source": [
        "#### Submetendo nova previsão utilizando o melhor modelo"
      ]
    },
    {
      "cell_type": "code",
      "metadata": {
        "id": "WFluWNamm2Rz",
        "colab_type": "code",
        "colab": {}
      },
      "source": [
        "holdout_ids = teste[\"PassengerId\"]\n",
        "submission_df = {\"PassengerId\": holdout_ids,\n",
        "                 \"Survived\": predict_final}\n",
        "submission = pd.DataFrame(submission_df)\n",
        "\n",
        "submission.to_csv(\"pipelineBestScoreSubmission.csv\",index=False)"
      ],
      "execution_count": 0,
      "outputs": []
    },
    {
      "cell_type": "markdown",
      "metadata": {
        "id": "0qbLgwTunwcK",
        "colab_type": "text"
      },
      "source": [
        "<h6 class=\"text-center\">Submit ao site do Kaggle</h6>\n",
        "<img src=\"https://raw.githubusercontent.com/pbitalo/titanic-kaggle/master/pipelineBestScoreSubmission.jpg\">\n",
        "\n"
      ]
    },
    {
      "cell_type": "markdown",
      "metadata": {
        "id": "gFlsN-vqn8hh",
        "colab_type": "text"
      },
      "source": [
        "### Posição no ranking"
      ]
    },
    {
      "cell_type": "markdown",
      "metadata": {
        "id": "0A8IYLa9n_5S",
        "colab_type": "text"
      },
      "source": [
        "<img src=\"https://raw.githubusercontent.com/pbitalo/titanic-kaggle/master/PosicaoRanking.png\">\n",
        "\n"
      ]
    }
  ]
}